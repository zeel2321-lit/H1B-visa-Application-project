{
  "cells": [
    {
      "cell_type": "markdown",
      "id": "1f3dd2b4",
      "metadata": {
        "id": "1f3dd2b4"
      },
      "source": [
        "\n",
        "# Classifiying and Predicting the Outcome of H-1B Work Visa Applications - EDA"
      ]
    },
    {
      "cell_type": "markdown",
      "id": "b2446427",
      "metadata": {
        "id": "b2446427"
      },
      "source": [
        "# Importing the necessary libraries\n"
      ]
    },
    {
      "cell_type": "code",
      "execution_count": 1,
      "id": "f110edc5",
      "metadata": {
        "id": "f110edc5"
      },
      "outputs": [],
      "source": [
        "import pandas as pd\n",
        "import matplotlib.pyplot as plt\n",
        "import numpy as np\n",
        "import seaborn as sns\n",
        "%matplotlib inline"
      ]
    },
    {
      "cell_type": "code",
      "execution_count": 2,
      "id": "be490536",
      "metadata": {
        "id": "be490536"
      },
      "outputs": [],
      "source": [
        "#Reading the file\n",
        "df = pd.read_excel(\"D:/Main Project/H-1B_Disclosure_Data_FY2019.xlsx\")"
      ]
    },
    {
      "cell_type": "code",
      "execution_count": 125,
      "id": "ff1305e2",
      "metadata": {
        "id": "ff1305e2"
      },
      "outputs": [],
      "source": [
        "data = df"
      ]
    },
    {
      "cell_type": "code",
      "execution_count": 126,
      "id": "c8c4e59f",
      "metadata": {
        "id": "c8c4e59f",
        "outputId": "38f9a408-c5fd-46b5-b45e-e40b5fd639d5"
      },
      "outputs": [
        {
          "data": {
            "text/plain": [
              "(664616, 260)"
            ]
          },
          "execution_count": 126,
          "metadata": {},
          "output_type": "execute_result"
        }
      ],
      "source": [
        "data.shape"
      ]
    },
    {
      "cell_type": "markdown",
      "id": "d68e3fec",
      "metadata": {
        "id": "d68e3fec"
      },
      "source": [
        " "
      ]
    },
    {
      "cell_type": "markdown",
      "id": "651433dd",
      "metadata": {
        "id": "651433dd"
      },
      "source": [
        "THE GIVEN DATA HAS 664616 ROWS AND 260 COLUMNS"
      ]
    },
    {
      "cell_type": "markdown",
      "id": "9f1019eb",
      "metadata": {
        "id": "9f1019eb"
      },
      "source": [
        " "
      ]
    },
    {
      "cell_type": "markdown",
      "id": "89c97a31",
      "metadata": {
        "id": "89c97a31"
      },
      "source": [
        "## Visualizing the dataset"
      ]
    },
    {
      "cell_type": "code",
      "execution_count": 127,
      "id": "6ba29c07",
      "metadata": {
        "id": "6ba29c07",
        "outputId": "47fd404d-e176-4034-c8b2-23db0e158ec0"
      },
      "outputs": [
        {
          "data": {
            "text/html": [
              "<div>\n",
              "<style scoped>\n",
              "    .dataframe tbody tr th:only-of-type {\n",
              "        vertical-align: middle;\n",
              "    }\n",
              "\n",
              "    .dataframe tbody tr th {\n",
              "        vertical-align: top;\n",
              "    }\n",
              "\n",
              "    .dataframe thead th {\n",
              "        text-align: right;\n",
              "    }\n",
              "</style>\n",
              "<table border=\"1\" class=\"dataframe\">\n",
              "  <thead>\n",
              "    <tr style=\"text-align: right;\">\n",
              "      <th></th>\n",
              "      <th>CASE_NUMBER</th>\n",
              "      <th>CASE_STATUS</th>\n",
              "      <th>CASE_SUBMITTED</th>\n",
              "      <th>DECISION_DATE</th>\n",
              "      <th>ORIGINAL_CERT_DATE</th>\n",
              "      <th>VISA_CLASS</th>\n",
              "      <th>JOB_TITLE</th>\n",
              "      <th>SOC_CODE</th>\n",
              "      <th>SOC_TITLE</th>\n",
              "      <th>FULL_TIME_POSITION</th>\n",
              "      <th>...</th>\n",
              "      <th>PW_OTHER_SOURCE_10</th>\n",
              "      <th>PW_NON-OES_YEAR_10</th>\n",
              "      <th>PW_SURVEY_PUBLISHER_10</th>\n",
              "      <th>PW_SURVEY_NAME_10</th>\n",
              "      <th>H-1B_DEPENDENT</th>\n",
              "      <th>WILLFUL_VIOLATOR</th>\n",
              "      <th>SUPPORT_H1B</th>\n",
              "      <th>STATUTORY_BASIS</th>\n",
              "      <th>MASTERS_EXEMPTION</th>\n",
              "      <th>PUBLIC_DISCLOSURE</th>\n",
              "    </tr>\n",
              "  </thead>\n",
              "  <tbody>\n",
              "    <tr>\n",
              "      <th>0</th>\n",
              "      <td>I-200-16092-327771</td>\n",
              "      <td>WITHDRAWN</td>\n",
              "      <td>2016-04-08</td>\n",
              "      <td>2019-04-30</td>\n",
              "      <td>NaT</td>\n",
              "      <td>H-1B</td>\n",
              "      <td>ASSOCIATE CREATIVE DIRECTOR</td>\n",
              "      <td>11-2011</td>\n",
              "      <td>ADVERTISING AND PROMOTIONS MANAGERS</td>\n",
              "      <td>Y</td>\n",
              "      <td>...</td>\n",
              "      <td>NaN</td>\n",
              "      <td>NaN</td>\n",
              "      <td>NaN</td>\n",
              "      <td>NaN</td>\n",
              "      <td>N</td>\n",
              "      <td>N</td>\n",
              "      <td>NaN</td>\n",
              "      <td>NaN</td>\n",
              "      <td>NaN</td>\n",
              "      <td>NaN</td>\n",
              "    </tr>\n",
              "    <tr>\n",
              "      <th>1</th>\n",
              "      <td>I-203-17188-450729</td>\n",
              "      <td>WITHDRAWN</td>\n",
              "      <td>2017-07-14</td>\n",
              "      <td>2019-05-13</td>\n",
              "      <td>NaT</td>\n",
              "      <td>E-3 Australian</td>\n",
              "      <td>ACCOUNT SUPERVISOR (MOTHER)</td>\n",
              "      <td>11-2011</td>\n",
              "      <td>ADVERTISING AND PROMOTIONS MANAGERS</td>\n",
              "      <td>Y</td>\n",
              "      <td>...</td>\n",
              "      <td>NaN</td>\n",
              "      <td>NaN</td>\n",
              "      <td>NaN</td>\n",
              "      <td>NaN</td>\n",
              "      <td>NaN</td>\n",
              "      <td>NaN</td>\n",
              "      <td>NaN</td>\n",
              "      <td>NaN</td>\n",
              "      <td>NaN</td>\n",
              "      <td>NaN</td>\n",
              "    </tr>\n",
              "    <tr>\n",
              "      <th>2</th>\n",
              "      <td>I-203-17229-572307</td>\n",
              "      <td>WITHDRAWN</td>\n",
              "      <td>2017-08-23</td>\n",
              "      <td>2019-04-30</td>\n",
              "      <td>NaT</td>\n",
              "      <td>E-3 Australian</td>\n",
              "      <td>EXECUTIVE CREATIVE DIRECTOR</td>\n",
              "      <td>11-2011</td>\n",
              "      <td>ADVERTISING AND PROMOTIONS MANAGERS</td>\n",
              "      <td>Y</td>\n",
              "      <td>...</td>\n",
              "      <td>NaN</td>\n",
              "      <td>NaN</td>\n",
              "      <td>NaN</td>\n",
              "      <td>NaN</td>\n",
              "      <td>NaN</td>\n",
              "      <td>NaN</td>\n",
              "      <td>NaN</td>\n",
              "      <td>NaN</td>\n",
              "      <td>NaN</td>\n",
              "      <td>NaN</td>\n",
              "    </tr>\n",
              "    <tr>\n",
              "      <th>3</th>\n",
              "      <td>I-203-17356-299648</td>\n",
              "      <td>WITHDRAWN</td>\n",
              "      <td>2017-12-22</td>\n",
              "      <td>2019-08-20</td>\n",
              "      <td>NaT</td>\n",
              "      <td>E-3 Australian</td>\n",
              "      <td>PROJECT MANAGEMENT LEAD</td>\n",
              "      <td>11-2011</td>\n",
              "      <td>ADVERTISING AND PROMOTIONS MANAGERS</td>\n",
              "      <td>Y</td>\n",
              "      <td>...</td>\n",
              "      <td>NaN</td>\n",
              "      <td>NaN</td>\n",
              "      <td>NaN</td>\n",
              "      <td>NaN</td>\n",
              "      <td>NaN</td>\n",
              "      <td>NaN</td>\n",
              "      <td>NaN</td>\n",
              "      <td>NaN</td>\n",
              "      <td>NaN</td>\n",
              "      <td>NaN</td>\n",
              "    </tr>\n",
              "    <tr>\n",
              "      <th>4</th>\n",
              "      <td>I-203-18008-577576</td>\n",
              "      <td>WITHDRAWN</td>\n",
              "      <td>2018-01-10</td>\n",
              "      <td>2019-04-15</td>\n",
              "      <td>NaT</td>\n",
              "      <td>E-3 Australian</td>\n",
              "      <td>CREATIVE DIRECTOR, UX</td>\n",
              "      <td>11-2011</td>\n",
              "      <td>ADVERTISING AND PROMOTIONS MANAGERS</td>\n",
              "      <td>Y</td>\n",
              "      <td>...</td>\n",
              "      <td>NaN</td>\n",
              "      <td>NaN</td>\n",
              "      <td>NaN</td>\n",
              "      <td>NaN</td>\n",
              "      <td>NaN</td>\n",
              "      <td>NaN</td>\n",
              "      <td>NaN</td>\n",
              "      <td>NaN</td>\n",
              "      <td>NaN</td>\n",
              "      <td>NaN</td>\n",
              "    </tr>\n",
              "  </tbody>\n",
              "</table>\n",
              "<p>5 rows × 260 columns</p>\n",
              "</div>"
            ],
            "text/plain": [
              "          CASE_NUMBER CASE_STATUS CASE_SUBMITTED DECISION_DATE  \\\n",
              "0  I-200-16092-327771   WITHDRAWN     2016-04-08    2019-04-30   \n",
              "1  I-203-17188-450729   WITHDRAWN     2017-07-14    2019-05-13   \n",
              "2  I-203-17229-572307   WITHDRAWN     2017-08-23    2019-04-30   \n",
              "3  I-203-17356-299648   WITHDRAWN     2017-12-22    2019-08-20   \n",
              "4  I-203-18008-577576   WITHDRAWN     2018-01-10    2019-04-15   \n",
              "\n",
              "  ORIGINAL_CERT_DATE      VISA_CLASS                    JOB_TITLE SOC_CODE  \\\n",
              "0                NaT            H-1B  ASSOCIATE CREATIVE DIRECTOR  11-2011   \n",
              "1                NaT  E-3 Australian  ACCOUNT SUPERVISOR (MOTHER)  11-2011   \n",
              "2                NaT  E-3 Australian  EXECUTIVE CREATIVE DIRECTOR  11-2011   \n",
              "3                NaT  E-3 Australian      PROJECT MANAGEMENT LEAD  11-2011   \n",
              "4                NaT  E-3 Australian        CREATIVE DIRECTOR, UX  11-2011   \n",
              "\n",
              "                             SOC_TITLE FULL_TIME_POSITION  ...  \\\n",
              "0  ADVERTISING AND PROMOTIONS MANAGERS                  Y  ...   \n",
              "1  ADVERTISING AND PROMOTIONS MANAGERS                  Y  ...   \n",
              "2  ADVERTISING AND PROMOTIONS MANAGERS                  Y  ...   \n",
              "3  ADVERTISING AND PROMOTIONS MANAGERS                  Y  ...   \n",
              "4  ADVERTISING AND PROMOTIONS MANAGERS                  Y  ...   \n",
              "\n",
              "  PW_OTHER_SOURCE_10 PW_NON-OES_YEAR_10  PW_SURVEY_PUBLISHER_10  \\\n",
              "0                NaN                NaN                     NaN   \n",
              "1                NaN                NaN                     NaN   \n",
              "2                NaN                NaN                     NaN   \n",
              "3                NaN                NaN                     NaN   \n",
              "4                NaN                NaN                     NaN   \n",
              "\n",
              "  PW_SURVEY_NAME_10 H-1B_DEPENDENT  WILLFUL_VIOLATOR  SUPPORT_H1B  \\\n",
              "0               NaN              N                 N          NaN   \n",
              "1               NaN            NaN               NaN          NaN   \n",
              "2               NaN            NaN               NaN          NaN   \n",
              "3               NaN            NaN               NaN          NaN   \n",
              "4               NaN            NaN               NaN          NaN   \n",
              "\n",
              "   STATUTORY_BASIS  MASTERS_EXEMPTION PUBLIC_DISCLOSURE  \n",
              "0              NaN                NaN               NaN  \n",
              "1              NaN                NaN               NaN  \n",
              "2              NaN                NaN               NaN  \n",
              "3              NaN                NaN               NaN  \n",
              "4              NaN                NaN               NaN  \n",
              "\n",
              "[5 rows x 260 columns]"
            ]
          },
          "execution_count": 127,
          "metadata": {},
          "output_type": "execute_result"
        }
      ],
      "source": [
        "data.head()"
      ]
    },
    {
      "cell_type": "code",
      "execution_count": 128,
      "id": "4b8ae82f",
      "metadata": {
        "id": "4b8ae82f",
        "outputId": "845a62f9-2bb3-41f7-d096-da9612a6e59c"
      },
      "outputs": [
        {
          "name": "stdout",
          "output_type": "stream",
          "text": [
            "CASE_NUMBER\n",
            "CASE_STATUS\n",
            "CASE_SUBMITTED\n",
            "DECISION_DATE\n",
            "ORIGINAL_CERT_DATE\n",
            "VISA_CLASS\n",
            "JOB_TITLE\n",
            "SOC_CODE\n",
            "SOC_TITLE\n",
            "FULL_TIME_POSITION\n",
            "PERIOD_OF_EMPLOYMENT_START_DATE\n",
            "PERIOD_OF_EMPLOYMENT_END_DATE\n",
            "TOTAL_WORKER_POSITIONS\n",
            "NEW_EMPLOYMENT\n",
            "CONTINUED_EMPLOYMENT\n",
            "CHANGE_PREVIOUS_EMPLOYMENT\n",
            "NEW_CONCURRENT_EMPLOYMENT\n",
            "CHANGE_EMPLOYER\n",
            "AMENDED_PETITION\n",
            "EMPLOYER_NAME\n",
            "EMPLOYER_BUSINESS_DBA\n",
            "EMPLOYER_ADDRESS1\n",
            "EMPLOYER_ADDRESS2\n",
            "EMPLOYER_CITY\n",
            "EMPLOYER_STATE\n",
            "EMPLOYER_POSTAL_CODE\n",
            "EMPLOYER_COUNTRY\n",
            "EMPLOYER_PROVINCE\n",
            "EMPLOYER_PHONE\n",
            "EMPLOYER_PHONE_EXT\n",
            "NAICS_CODE\n",
            "AGENT_REPRESENTING_EMPLOYER\n",
            "AGENT_ATTORNEY_LAW_FIRM_BUSINESS_NAME\n",
            "AGENT_ATTORNEY_ADDRESS1\n",
            "AGENT_ATTORNEY_ADDRESS2\n",
            "AGENT_ATTORNEY_CITY\n",
            "AGENT_ATTORNEY_STATE\n",
            "AGENT_ATTORNEY_POSTAL_CODE\n",
            "AGENT_ATTORNEY_COUNTRY\n",
            "AGENT_ATTORNEY_PROVINCE\n",
            "AGENT_ATTORNEY_PHONE\n",
            "AGENT_ATTORNEY_PHONE_EXT\n",
            "STATE_OF_HIGHEST_COURT\n",
            "NAME_OF_HIGHEST_STATE_COURT\n",
            "WORKSITE_WORKERS_1\n",
            "SECONDARY_ENTITY_1\n",
            "SECONDARY_ENTITY_BUSINESS_NAME_1\n",
            "WORKSITE_ADDRESS1_1\n",
            "WORKSITE_ADDRESS2_1\n",
            "WORKSITE_CITY_1\n",
            "WORKSITE_COUNTY_1\n",
            "WORKSITE_STATE_1\n",
            "WORKSITE_POSTAL_CODE_1\n",
            "WAGE_RATE_OF_PAY_FROM_1\n",
            "WAGE_RATE_OF_PAY_TO_1\n",
            "WAGE_UNIT_OF_PAY_1\n",
            "PREVAILING_WAGE_1\n",
            "PW_UNIT_OF_PAY_1\n",
            "PW_TRACKING_NUMBER_1\n",
            "PW_WAGE_LEVEL_1\n",
            "PW_OES_YEAR_1\n",
            "PW_OTHER_SOURCE_1\n",
            "PW_NON-OES_YEAR_1\n",
            "PW_SURVEY_PUBLISHER_1\n",
            "PW_SURVEY_NAME_1\n",
            "WORKSITE_WORKERS_2\n",
            "SECONDARY_ENTITY_2\n",
            "SECONDARY_ENTITY_BUSINESS_NAME_2\n",
            "WORKSITE_ADDRESS1_2\n",
            "WORKSITE_ADDRESS2_2\n",
            "WORKSITE_CITY_2\n",
            "WORKSITE_COUNTY_2\n",
            "WORKSITE_STATE_2\n",
            "WORKSITE_POSTAL_CODE_2\n",
            "WAGE_RATE_OF_PAY_FROM_2\n",
            "WAGE_RATE_OF_PAY_TO_2\n",
            "WAGE_UNIT_OF_PAY_2\n",
            "PREVAILING_WAGE_2\n",
            "PW_UNIT_OF_PAY_2\n",
            "PW_TRACKING_NUMBER_2\n",
            "PW_WAGE_LEVEL_2\n",
            "PW_OES_YEAR_2\n",
            "PW_OTHER_SOURCE_2\n",
            "PW_NON-OES_YEAR_2\n",
            "PW_SURVEY_PUBLISHER_2\n",
            "PW_SURVEY_NAME_2\n",
            "WORKSITE_WORKERS_3\n",
            "SECONDARY_ENTITY_3\n",
            "SECONDARY_ENTITY_BUSINESS_NAME_3\n",
            "WORKSITE_ADDRESS1_3\n",
            "WORKSITE_ADDRESS2_3\n",
            "WORKSITE_CITY_3\n",
            "WORKSITE_COUNTY_3\n",
            "WORKSITE_STATE_3\n",
            "WORKSITE_POSTAL_CODE_3\n",
            "WAGE_RATE_OF_PAY_FROM_3\n",
            "WAGE_RATE_OF_PAY_TO_3\n",
            "WAGE_UNIT_OF_PAY_3\n",
            "PREVAILING_WAGE_3\n",
            "PW_UNIT_OF_PAY_3\n",
            "PW_TRACKING_NUMBER_3\n",
            "PW_WAGE_LEVEL_3\n",
            "PW_OES_YEAR_3\n",
            "PW_OTHER_SOURCE_3\n",
            "PW_NON-OES_YEAR_3\n",
            "PW_SURVEY_PUBLISHER_3\n",
            "PW_SURVEY_NAME_3\n",
            "WORKSITE_WORKERS_4\n",
            "SECONDARY_ENTITY_4\n",
            "SECONDARY_ENTITY_BUSINESS_NAME_4\n",
            "WORKSITE_ADDRESS1_4\n",
            "WORKSITE_ADDRESS2_4\n",
            "WORKSITE_CITY_4\n",
            "WORKSITE_COUNTY_4\n",
            "WORKSITE_STATE_4\n",
            "WORKSITE_POSTAL_CODE_4\n",
            "WAGE_RATE_OF_PAY_FROM_4\n",
            "WAGE_RATE_OF_PAY_TO_4\n",
            "WAGE_UNIT_OF_PAY_4\n",
            "PREVAILING_WAGE_4\n",
            "PW_UNIT_OF_PAY_4\n",
            "PW_TRACKING_NUMBER_4\n",
            "PW_WAGE_LEVEL_4\n",
            "PW_OES_YEAR_4\n",
            "PW_OTHER_SOURCE_4\n",
            "PW_NON-OES_YEAR_4\n",
            "PW_SURVEY_PUBLISHER_4\n",
            "PW_SURVEY_NAME_4\n",
            "WORKSITE_WORKERS_5\n",
            "SECONDARY_ENTITY_5\n",
            "SECONDARY_ENTITY_BUSINESS_NAME_5\n",
            "WORKSITE_ADDRESS1_5\n",
            "WORKSITE_ADDRESS2_5\n",
            "WORKSITE_CITY_5\n",
            "WORKSITE_COUNTY_5\n",
            "WORKSITE_STATE_5\n",
            "WORKSITE_POSTAL_CODE_5\n",
            "WAGE_RATE_OF_PAY_FROM_5\n",
            "WAGE_RATE_OF_PAY_TO_5\n",
            "WAGE_UNIT_OF_PAY_5\n",
            "PREVAILING_WAGE_5\n",
            "PW_UNIT_OF_PAY_5\n",
            "PW_TRACKING_NUMBER_5\n",
            "PW_WAGE_LEVEL_5\n",
            "PW_OES_YEAR_5\n",
            "PW_OTHER_SOURCE_5\n",
            "PW_NON-OES_YEAR_5\n",
            "PW_SURVEY_PUBLISHER_5\n",
            "PW_SURVEY_NAME_5\n",
            "WORKSITE_WORKERS_6\n",
            "SECONDARY_ENTITY_6\n",
            "SECONDARY_ENTITY_BUSINESS_NAME_6\n",
            "WORKSITE_ADDRESS1_6\n",
            "WORKSITE_ADDRESS2_6\n",
            "WORKSITE_CITY_6\n",
            "WORKSITE_COUNTY_6\n",
            "WORKSITE_STATE_6\n",
            "WORKSITE_POSTAL_CODE_6\n",
            "WAGE_RATE_OF_PAY_FROM_6\n",
            "WAGE_RATE_OF_PAY_TO_6\n",
            "WAGE_UNIT_OF_PAY_6\n",
            "PREVAILING_WAGE_6\n",
            "PW_UNIT_OF_PAY_6\n",
            "PW_TRACKING_NUMBER_6\n",
            "PW_WAGE_LEVEL_6\n",
            "PW_OES_YEAR_6\n",
            "PW_OTHER_SOURCE_6\n",
            "PW_NON-OES_YEAR_6\n",
            "PW_SURVEY_PUBLISHER_6\n",
            "PW_SURVEY_NAME_6\n",
            "WORKSITE_WORKERS_7\n",
            "SECONDARY_ENTITY_7\n",
            "SECONDARY_ENTITY_BUSINESS_NAME_7\n",
            "WORKSITE_ADDRESS1_7\n",
            "WORKSITE_ADDRESS2_7\n",
            "WORKSITE_CITY_7\n",
            "WORKSITE_COUNTY_7\n",
            "WORKSITE_STATE_7\n",
            "WORKSITE_POSTAL_CODE_7\n",
            "WAGE_RATE_OF_PAY_FROM_7\n",
            "WAGE_RATE_OF_PAY_TO_7\n",
            "WAGE_UNIT_OF_PAY_7\n",
            "PREVAILING_WAGE_7\n",
            "PW_UNIT_OF_PAY_7\n",
            "PW_TRACKING_NUMBER_7\n",
            "PW_WAGE_LEVEL_7\n",
            "PW_OES_YEAR_7\n",
            "PW_OTHER_SOURCE_7\n",
            "PW_NON-OES_YEAR_7\n",
            "PW_SURVEY_PUBLISHER_7\n",
            "PW_SURVEY_NAME_7\n",
            "WORKSITE_WORKERS_8\n",
            "SECONDARY_ENTITY_8\n",
            "SECONDARY_ENTITY_BUSINESS_NAME_8\n",
            "WORKSITE_ADDRESS1_8\n",
            "WORKSITE_ADDRESS2_8\n",
            "WORKSITE_CITY_8\n",
            "WORKSITE_COUNTY_8\n",
            "WORKSITE_STATE_8\n",
            "WORKSITE_POSTAL_CODE_8\n",
            "WAGE_RATE_OF_PAY_FROM_8\n",
            "WAGE_RATE_OF_PAY_TO_8\n",
            "WAGE_UNIT_OF_PAY_8\n",
            "PREVAILING_WAGE_8\n",
            "PW_UNIT_OF_PAY_8\n",
            "PW_TRACKING_NUMBER_8\n",
            "PW_WAGE_LEVEL_8\n",
            "PW_OES_YEAR_8\n",
            "PW_OTHER_SOURCE_8\n",
            "PW_NON-OES_YEAR_8\n",
            "PW_SURVEY_PUBLISHER_8\n",
            "PW_SURVEY_NAME_8\n",
            "WORKSITE_WORKERS_9\n",
            "SECONDARY_ENTITY_9\n",
            "SECONDARY_ENTITY_BUSINESS_NAME_9\n",
            "WORKSITE_ADDRESS1_9\n",
            "WORKSITE_ADDRESS2_9\n",
            "WORKSITE_CITY_9\n",
            "WORKSITE_COUNTY_9\n",
            "WORKSITE_STATE_9\n",
            "WORKSITE_POSTAL_CODE_9\n",
            "WAGE_RATE_OF_PAY_FROM_9\n",
            "WAGE_RATE_OF_PAY_TO_9\n",
            "WAGE_UNIT_OF_PAY_9\n",
            "PREVAILING_WAGE_9\n",
            "PW_UNIT_OF_PAY_9\n",
            "PW_TRACKING_NUMBER_9\n",
            "PW_WAGE_LEVEL_9\n",
            "PW_OES_YEAR_9\n",
            "PW_OTHER_SOURCE_9\n",
            "PW_NON-OES_YEAR_9\n",
            "PW_SURVEY_PUBLISHER_9\n",
            "PW_SURVEY_NAME_9\n",
            "WORKSITE_WORKERS_10\n",
            "SECONDARY_ENTITY_10\n",
            "SECONDARY_ENTITY_BUSINESS_NAME_10\n",
            "WORKSITE_ADDRESS1_10\n",
            "WORKSITE_ADDRESS2_10\n",
            "WORKSITE_CITY_10\n",
            "WORKSITE_COUNTY_10\n",
            "WORKSITE_STATE_10\n",
            "WORKSITE_POSTAL_CODE_10\n",
            "WAGE_RATE_OF_PAY_FROM_10\n",
            "WAGE_RATE_OF_PAY_TO_10\n",
            "WAGE_UNIT_OF_PAY_10\n",
            "PREVAILING_WAGE_10\n",
            "PW_UNIT_OF_PAY_10\n",
            "PW_TRACKING_NUMBER_10\n",
            "PW_WAGE_LEVEL_10\n",
            "PW_OES_YEAR_10\n",
            "PW_OTHER_SOURCE_10\n",
            "PW_NON-OES_YEAR_10\n",
            "PW_SURVEY_PUBLISHER_10\n",
            "PW_SURVEY_NAME_10\n",
            "H-1B_DEPENDENT\n",
            "WILLFUL_VIOLATOR\n",
            "SUPPORT_H1B\n",
            "STATUTORY_BASIS\n",
            "MASTERS_EXEMPTION\n",
            "PUBLIC_DISCLOSURE\n"
          ]
        }
      ],
      "source": [
        "#Defining the features in the given dataset\n",
        "features = data.columns \n",
        "for feature in features:\n",
        "    print(feature)"
      ]
    },
    {
      "cell_type": "markdown",
      "id": "36483247",
      "metadata": {
        "id": "36483247"
      },
      "source": [
        " "
      ]
    },
    {
      "cell_type": "markdown",
      "id": "a4166fe0",
      "metadata": {
        "id": "a4166fe0"
      },
      "source": [
        "## Feature Selection"
      ]
    },
    {
      "cell_type": "markdown",
      "id": "c0841105",
      "metadata": {
        "id": "c0841105"
      },
      "source": [
        "The important features in the dataset which can affect the model building are : \n",
        "1. CASE_STATUS\n",
        "2. VISA_CLASS\n",
        "3. EMPLOYER_NAME\n",
        "4. AGENT_REPRESENTING_EMPLOYER\n",
        "5. AGENT_ATTORNEY_LAW_FIRM_BUSINESS_NAME\n",
        "6. JOB_TITLE\n",
        "7. SOC_TITLE\n",
        "8. SOC_CODE\n",
        "9. NAICS_CODE\n",
        "10. CONTINUED_EMPLOYMENT\n",
        "11. CHANGE_PREVIOUS_EMPLOYMENT\n",
        "12. NEW_CONCURRENT_EMPLOYMENT\n",
        "13. CHANGE_EMPLOYER\n",
        "14. AMENDED_PETITION\n",
        "15. H-1B_DEPENDENT\n",
        "16. WILLFUL_VIOLATOR\n",
        "17. SUPPORT_H1B\n",
        "18. TOTAL_WORKER_POSITIONS\n",
        "19. EMPLOYER_COUNTRY"
      ]
    },
    {
      "cell_type": "code",
      "execution_count": 129,
      "id": "e948ac52",
      "metadata": {
        "id": "e948ac52"
      },
      "outputs": [],
      "source": [
        "#Selecting the important features for model building\n",
        "features_final = [\"CASE_STATUS\", \"VISA_CLASS\",\"EMPLOYER_NAME\",\"EMPLOYER_COUNTRY\",\"AGENT_REPRESENTING_EMPLOYER\",\"JOB_TITLE\",\"SOC_TITLE\",\"SOC_CODE\",\"NAICS_CODE\",\"CONTINUED_EMPLOYMENT\",\"CHANGE_PREVIOUS_EMPLOYMENT\",\"NEW_CONCURRENT_EMPLOYMENT\",\"CHANGE_EMPLOYER\",\"AMENDED_PETITION\",\"H-1B_DEPENDENT\",\"WILLFUL_VIOLATOR\",\"AGENT_ATTORNEY_LAW_FIRM_BUSINESS_NAME\", \"SUPPORT_H1B\", \"TOTAL_WORKER_POSITIONS\" ]\n",
        "data_final = data[features_final]"
      ]
    },
    {
      "cell_type": "code",
      "execution_count": 130,
      "id": "3c153066",
      "metadata": {
        "id": "3c153066",
        "outputId": "a6207209-2955-4be4-a6ef-549146584476"
      },
      "outputs": [
        {
          "data": {
            "text/plain": [
              "(285041, 19)"
            ]
          },
          "execution_count": 130,
          "metadata": {},
          "output_type": "execute_result"
        }
      ],
      "source": [
        "#Checking for the duplicate values\n",
        "duplicate = data_final[data_final.duplicated()]\n",
        "duplicate.shape"
      ]
    },
    {
      "cell_type": "code",
      "execution_count": 131,
      "id": "dbbb9bcf",
      "metadata": {
        "id": "dbbb9bcf",
        "outputId": "628b335d-4b99-4628-dbca-728ac0e88993"
      },
      "outputs": [
        {
          "data": {
            "text/plain": [
              "(379575, 19)"
            ]
          },
          "execution_count": 131,
          "metadata": {},
          "output_type": "execute_result"
        }
      ],
      "source": [
        "#Removing the duplicate values\n",
        "data_final = data_final.drop_duplicates()\n",
        "data_final.shape"
      ]
    },
    {
      "cell_type": "markdown",
      "id": "2e4a81d9",
      "metadata": {
        "id": "2e4a81d9"
      },
      "source": [
        " After removing the duplicate values we are left with 379575 rows."
      ]
    },
    {
      "cell_type": "markdown",
      "id": "a4995ab8",
      "metadata": {
        "id": "a4995ab8"
      },
      "source": [
        "## EDA"
      ]
    },
    {
      "cell_type": "code",
      "execution_count": 132,
      "id": "33073b9e",
      "metadata": {
        "id": "33073b9e",
        "outputId": "a7da9e8d-6c92-4a45-f222-226ee2a1601c"
      },
      "outputs": [
        {
          "data": {
            "text/plain": [
              "CASE_STATUS                               object\n",
              "VISA_CLASS                                object\n",
              "EMPLOYER_NAME                             object\n",
              "EMPLOYER_COUNTRY                          object\n",
              "AGENT_REPRESENTING_EMPLOYER               object\n",
              "JOB_TITLE                                 object\n",
              "SOC_TITLE                                 object\n",
              "SOC_CODE                                  object\n",
              "NAICS_CODE                               float64\n",
              "CONTINUED_EMPLOYMENT                      object\n",
              "CHANGE_PREVIOUS_EMPLOYMENT                 int64\n",
              "NEW_CONCURRENT_EMPLOYMENT                float64\n",
              "CHANGE_EMPLOYER                            int64\n",
              "AMENDED_PETITION                           int64\n",
              "H-1B_DEPENDENT                            object\n",
              "WILLFUL_VIOLATOR                          object\n",
              "AGENT_ATTORNEY_LAW_FIRM_BUSINESS_NAME     object\n",
              "SUPPORT_H1B                               object\n",
              "TOTAL_WORKER_POSITIONS                   float64\n",
              "dtype: object"
            ]
          },
          "execution_count": 132,
          "metadata": {},
          "output_type": "execute_result"
        }
      ],
      "source": [
        "#Checking for the datatypes\n",
        "data_final.dtypes"
      ]
    },
    {
      "cell_type": "code",
      "execution_count": 133,
      "id": "d9f03135",
      "metadata": {
        "id": "d9f03135"
      },
      "outputs": [],
      "source": [
        "Categorical = ['CASE_STATUS','VISA_CLASS','EMPLOYER_NAME','EMPLOYER_COUNTRY','AGENT_REPRESENTING_EMPLOYER','JOB_TITLE','SOC_TITLE','H-1B_DEPENDENT', 'SUPPORT_H1B','AGENT_ATTORNEY_LAW_FIRM_BUSINESS_NAME','WILLFUL_VIOLATOR']\n",
        "Numerical = ['TOTAL_WORKER_POSITIONS','AMENDED_PETITION','CHANGE_EMPLOYER','NEW_CONCURRENT_EMPLOYMENT', 'CHANGE_PREVIOUS_EMPLOYMENT','CONTINUED_EMPLOYMENT','SOC_CODE','NAICS_CODE']"
      ]
    },
    {
      "cell_type": "code",
      "execution_count": 134,
      "id": "fcc7d07d",
      "metadata": {
        "id": "fcc7d07d",
        "outputId": "b1c8ff3b-76a1-4395-bf5c-3450258cd42d"
      },
      "outputs": [
        {
          "data": {
            "text/html": [
              "<div>\n",
              "<style scoped>\n",
              "    .dataframe tbody tr th:only-of-type {\n",
              "        vertical-align: middle;\n",
              "    }\n",
              "\n",
              "    .dataframe tbody tr th {\n",
              "        vertical-align: top;\n",
              "    }\n",
              "\n",
              "    .dataframe thead th {\n",
              "        text-align: right;\n",
              "    }\n",
              "</style>\n",
              "<table border=\"1\" class=\"dataframe\">\n",
              "  <thead>\n",
              "    <tr style=\"text-align: right;\">\n",
              "      <th></th>\n",
              "      <th>NAICS_CODE</th>\n",
              "      <th>CHANGE_PREVIOUS_EMPLOYMENT</th>\n",
              "      <th>NEW_CONCURRENT_EMPLOYMENT</th>\n",
              "      <th>CHANGE_EMPLOYER</th>\n",
              "      <th>AMENDED_PETITION</th>\n",
              "      <th>TOTAL_WORKER_POSITIONS</th>\n",
              "    </tr>\n",
              "  </thead>\n",
              "  <tbody>\n",
              "    <tr>\n",
              "      <th>count</th>\n",
              "      <td>379573.000000</td>\n",
              "      <td>379575.000000</td>\n",
              "      <td>379574.000000</td>\n",
              "      <td>379575.000000</td>\n",
              "      <td>379575.000000</td>\n",
              "      <td>379573.000000</td>\n",
              "    </tr>\n",
              "    <tr>\n",
              "      <th>mean</th>\n",
              "      <td>449854.582681</td>\n",
              "      <td>0.117120</td>\n",
              "      <td>0.008736</td>\n",
              "      <td>0.241117</td>\n",
              "      <td>0.181548</td>\n",
              "      <td>1.445885</td>\n",
              "    </tr>\n",
              "    <tr>\n",
              "      <th>std</th>\n",
              "      <td>190327.992631</td>\n",
              "      <td>1.010834</td>\n",
              "      <td>0.278228</td>\n",
              "      <td>0.933172</td>\n",
              "      <td>0.778691</td>\n",
              "      <td>4.100401</td>\n",
              "    </tr>\n",
              "    <tr>\n",
              "      <th>min</th>\n",
              "      <td>31.000000</td>\n",
              "      <td>0.000000</td>\n",
              "      <td>0.000000</td>\n",
              "      <td>0.000000</td>\n",
              "      <td>0.000000</td>\n",
              "      <td>1.000000</td>\n",
              "    </tr>\n",
              "    <tr>\n",
              "      <th>25%</th>\n",
              "      <td>424690.000000</td>\n",
              "      <td>0.000000</td>\n",
              "      <td>0.000000</td>\n",
              "      <td>0.000000</td>\n",
              "      <td>0.000000</td>\n",
              "      <td>1.000000</td>\n",
              "    </tr>\n",
              "    <tr>\n",
              "      <th>50%</th>\n",
              "      <td>541511.000000</td>\n",
              "      <td>0.000000</td>\n",
              "      <td>0.000000</td>\n",
              "      <td>0.000000</td>\n",
              "      <td>0.000000</td>\n",
              "      <td>1.000000</td>\n",
              "    </tr>\n",
              "    <tr>\n",
              "      <th>75%</th>\n",
              "      <td>541512.000000</td>\n",
              "      <td>0.000000</td>\n",
              "      <td>0.000000</td>\n",
              "      <td>0.000000</td>\n",
              "      <td>0.000000</td>\n",
              "      <td>1.000000</td>\n",
              "    </tr>\n",
              "    <tr>\n",
              "      <th>max</th>\n",
              "      <td>928120.000000</td>\n",
              "      <td>338.000000</td>\n",
              "      <td>99.000000</td>\n",
              "      <td>99.000000</td>\n",
              "      <td>99.000000</td>\n",
              "      <td>594.000000</td>\n",
              "    </tr>\n",
              "  </tbody>\n",
              "</table>\n",
              "</div>"
            ],
            "text/plain": [
              "          NAICS_CODE  CHANGE_PREVIOUS_EMPLOYMENT  NEW_CONCURRENT_EMPLOYMENT  \\\n",
              "count  379573.000000               379575.000000              379574.000000   \n",
              "mean   449854.582681                    0.117120                   0.008736   \n",
              "std    190327.992631                    1.010834                   0.278228   \n",
              "min        31.000000                    0.000000                   0.000000   \n",
              "25%    424690.000000                    0.000000                   0.000000   \n",
              "50%    541511.000000                    0.000000                   0.000000   \n",
              "75%    541512.000000                    0.000000                   0.000000   \n",
              "max    928120.000000                  338.000000                  99.000000   \n",
              "\n",
              "       CHANGE_EMPLOYER  AMENDED_PETITION  TOTAL_WORKER_POSITIONS  \n",
              "count    379575.000000     379575.000000           379573.000000  \n",
              "mean          0.241117          0.181548                1.445885  \n",
              "std           0.933172          0.778691                4.100401  \n",
              "min           0.000000          0.000000                1.000000  \n",
              "25%           0.000000          0.000000                1.000000  \n",
              "50%           0.000000          0.000000                1.000000  \n",
              "75%           0.000000          0.000000                1.000000  \n",
              "max          99.000000         99.000000              594.000000  "
            ]
          },
          "execution_count": 134,
          "metadata": {},
          "output_type": "execute_result"
        }
      ],
      "source": [
        "data_final.describe()"
      ]
    },
    {
      "cell_type": "code",
      "execution_count": 135,
      "id": "870309b7",
      "metadata": {
        "id": "870309b7",
        "outputId": "3e786a29-9f1f-4be5-a38f-b9fb2283c960"
      },
      "outputs": [
        {
          "data": {
            "text/plain": [
              "CASE_STATUS                                   0\n",
              "VISA_CLASS                                    0\n",
              "EMPLOYER_NAME                                 9\n",
              "EMPLOYER_COUNTRY                          21054\n",
              "AGENT_REPRESENTING_EMPLOYER               21060\n",
              "JOB_TITLE                                     1\n",
              "SOC_TITLE                                     3\n",
              "SOC_CODE                                      3\n",
              "NAICS_CODE                                    2\n",
              "CONTINUED_EMPLOYMENT                          0\n",
              "CHANGE_PREVIOUS_EMPLOYMENT                    0\n",
              "NEW_CONCURRENT_EMPLOYMENT                     1\n",
              "CHANGE_EMPLOYER                               0\n",
              "AMENDED_PETITION                              0\n",
              "H-1B_DEPENDENT                            13338\n",
              "WILLFUL_VIOLATOR                          13343\n",
              "AGENT_ATTORNEY_LAW_FIRM_BUSINESS_NAME     83091\n",
              "SUPPORT_H1B                              293462\n",
              "TOTAL_WORKER_POSITIONS                        2\n",
              "dtype: int64"
            ]
          },
          "execution_count": 135,
          "metadata": {},
          "output_type": "execute_result"
        }
      ],
      "source": [
        "#Checking for null values\n",
        "data_final.isnull().sum()"
      ]
    },
    {
      "cell_type": "code",
      "execution_count": 136,
      "id": "5cd9364b",
      "metadata": {
        "id": "5cd9364b",
        "outputId": "b3b7e797-86f0-42e6-aaf1-4c78cddf7b2c"
      },
      "outputs": [
        {
          "name": "stdout",
          "output_type": "stream",
          "text": [
            "Index(['H-1B', 'E-3 Australian', 'H-1B1 Singapore', 'H-1B1 Chile'], dtype='object')\n",
            "[365792  11602   1184    997]\n"
          ]
        }
      ],
      "source": [
        "#Checking the visa class categories\n",
        "visa_class_categories = data_final.VISA_CLASS.value_counts().index\n",
        "print(visa_class_categories)\n",
        "visa_class_values = data_final.VISA_CLASS.value_counts().values\n",
        "print(visa_class_values)"
      ]
    },
    {
      "cell_type": "markdown",
      "id": "8c557d07",
      "metadata": {
        "id": "8c557d07"
      },
      "source": [
        "\n",
        "### Observations\n",
        "\n",
        "We find that there are 4 main categories of the visa class\n",
        "1. H-1B \n",
        "2. E-3 Australian\n",
        "3. H-1B1 Singapore\n",
        "4. H-1B1 Chile\n",
        "\n",
        "\n"
      ]
    },
    {
      "cell_type": "code",
      "execution_count": 137,
      "id": "85ee3849",
      "metadata": {
        "id": "85ee3849",
        "outputId": "2e5fea50-0e88-4c9f-a8f0-d11fd4911677"
      },
      "outputs": [
        {
          "name": "stderr",
          "output_type": "stream",
          "text": [
            "c:\\Users\\Mayurdhvajsinh\\AppData\\Local\\Programs\\Python\\Python310\\lib\\site-packages\\seaborn\\_decorators.py:36: FutureWarning: Pass the following variables as keyword args: x, y. From version 0.12, the only valid positional argument will be `data`, and passing other arguments without an explicit keyword will result in an error or misinterpretation.\n",
            "  warnings.warn(\n"
          ]
        },
        {
          "data": {
            "image/png": "[encoded data removed]",
            "text/plain": [
              "<Figure size 432x432 with 1 Axes>"
            ]
          },
          "metadata": {},
          "output_type": "display_data"
        }
      ],
      "source": [
        "#Plotting a bar graph for the above observations\n",
        "plt.figure(figsize = (6, 6))\n",
        "bargraph = sns.barplot(visa_class_categories,visa_class_values, data = data_final, palette = 'rainbow_r')\n",
        "\n",
        "plt.xlabel('Visa_Class_Categories')\n",
        "plt.ylabel('Values')\n",
        "plt.title(\"Visa Class\")\n",
        "plt.show()"
      ]
    },
    {
      "cell_type": "markdown",
      "id": "9eede394",
      "metadata": {
        "id": "9eede394"
      },
      "source": [
        "### Selecting the data with only H-1B visa class"
      ]
    },
    {
      "cell_type": "code",
      "execution_count": 138,
      "id": "5aff83e6",
      "metadata": {
        "id": "5aff83e6",
        "outputId": "7154fef3-e5d2-4cdd-d318-e65b326c49fe"
      },
      "outputs": [
        {
          "data": {
            "text/plain": [
              "3.7679883649724433"
            ]
          },
          "execution_count": 138,
          "metadata": {},
          "output_type": "execute_result"
        }
      ],
      "source": [
        "#Finding the % of applications other than the H-1B visas\n",
        "((data_final['VISA_CLASS'] == 'E-3 Australian') | (data_final['VISA_CLASS'] == 'H-1B1 Singapore') | (data_final['VISA_CLASS'] == 'H-1B1 Chile')).sum()/((data_final['VISA_CLASS'] == 'H-1B').sum())*100\n"
      ]
    },
    {
      "cell_type": "markdown",
      "id": "5171a725",
      "metadata": {
        "id": "5171a725"
      },
      "source": [
        "\n",
        "\n",
        "Since only 3.7% entries are of other visa classes  than H-1B we can remove these entries from the dataset"
      ]
    },
    {
      "cell_type": "code",
      "execution_count": 139,
      "id": "377369de",
      "metadata": {
        "id": "377369de"
      },
      "outputs": [],
      "source": [
        "#Selecting only the values which have H1B as the visa class\n",
        "data_H1B = data_final[data_final['VISA_CLASS'] == 'H-1B']"
      ]
    },
    {
      "cell_type": "code",
      "execution_count": 140,
      "id": "adb5b078",
      "metadata": {
        "id": "adb5b078",
        "outputId": "bf70e590-ef2a-42a1-e61c-e79fcab9c640"
      },
      "outputs": [
        {
          "data": {
            "text/plain": [
              "(365792, 19)"
            ]
          },
          "execution_count": 140,
          "metadata": {},
          "output_type": "execute_result"
        }
      ],
      "source": [
        "data_H1B.shape"
      ]
    },
    {
      "cell_type": "markdown",
      "id": "5e61b593",
      "metadata": {
        "id": "5e61b593"
      },
      "source": [
        " "
      ]
    },
    {
      "cell_type": "markdown",
      "id": "a813c1da",
      "metadata": {
        "id": "a813c1da"
      },
      "source": [
        "## Univariate Analysis of Categorical Variables"
      ]
    },
    {
      "cell_type": "markdown",
      "id": "92464ea5",
      "metadata": {
        "id": "92464ea5"
      },
      "source": [
        "#### Case Status"
      ]
    },
    {
      "cell_type": "code",
      "execution_count": 141,
      "id": "ab79592a",
      "metadata": {
        "id": "ab79592a",
        "outputId": "e0f70aba-72b8-4d66-af8f-b7f9cf8c66ed"
      },
      "outputs": [
        {
          "data": {
            "text/plain": [
              "0"
            ]
          },
          "execution_count": 141,
          "metadata": {},
          "output_type": "execute_result"
        }
      ],
      "source": [
        "#Checking for null values\n",
        "data_H1B.CASE_STATUS.isnull().sum()"
      ]
    },
    {
      "cell_type": "markdown",
      "id": "284107f1",
      "metadata": {
        "id": "284107f1"
      },
      "source": [
        " \n",
        "There are no null values present \n",
        " "
      ]
    },
    {
      "cell_type": "code",
      "execution_count": 142,
      "id": "b22f9769",
      "metadata": {
        "id": "b22f9769"
      },
      "outputs": [],
      "source": [
        "#Checking for the categories of the case status \n",
        "case_status_categories = data_H1B.CASE_STATUS.value_counts().index\n",
        "case_status_values = data_H1B.CASE_STATUS.value_counts().values"
      ]
    },
    {
      "cell_type": "code",
      "execution_count": 143,
      "id": "6b6ec1e0",
      "metadata": {
        "id": "6b6ec1e0",
        "outputId": "3d39e961-3dd8-496e-ba68-421e99398e59"
      },
      "outputs": [
        {
          "data": {
            "image/png": "[encoded data removed]",
            "text/plain": [
              "<Figure size 576x576 with 1 Axes>"
            ]
          },
          "metadata": {},
          "output_type": "display_data"
        }
      ],
      "source": [
        "#Checking for the categories of the case status \n",
        "plt.figure(figsize = (8, 8))\n",
        "plt.pie(case_status_values, labels=case_status_categories,autopct='%1.2f%%')\n",
        "plt.title('Pie chart showing Case Status Distribution')\n",
        "plt.show()"
      ]
    },
    {
      "cell_type": "markdown",
      "id": "c95a820a",
      "metadata": {
        "id": "c95a820a"
      },
      "source": [
        "\n",
        "\n",
        "There are 4 major categories under the case status with the given number percentage of cases :\n",
        "1. CERTIFIED                      84.79%\n",
        "2. CERTIFIED-WITHDRAWN            9.70%\n",
        "3. WITHDRAWN                      4.29%\n",
        "4. DENIED                         1.21%\n",
        "\n"
      ]
    },
    {
      "cell_type": "markdown",
      "id": "a657c32d",
      "metadata": {
        "id": "a657c32d"
      },
      "source": [
        "#### Agent Representing the Employer\n"
      ]
    },
    {
      "cell_type": "code",
      "execution_count": 144,
      "id": "f0825db6",
      "metadata": {
        "id": "f0825db6"
      },
      "outputs": [],
      "source": [
        "Agent_categories = data_H1B.AGENT_REPRESENTING_EMPLOYER.value_counts(dropna = False).index\n",
        "Agent_values = data_H1B.AGENT_REPRESENTING_EMPLOYER.value_counts(dropna = False).values"
      ]
    },
    {
      "cell_type": "code",
      "execution_count": 145,
      "id": "63b74005",
      "metadata": {
        "id": "63b74005",
        "outputId": "bab012a5-ebab-489f-bc37-f9bf5731cdd4"
      },
      "outputs": [
        {
          "data": {
            "image/png": "[encoded data removed]",
            "text/plain": [
              "<Figure size 576x576 with 1 Axes>"
            ]
          },
          "metadata": {},
          "output_type": "display_data"
        }
      ],
      "source": [
        "plt.figure(figsize = (8, 8))\n",
        "plt.pie(Agent_values, labels=Agent_categories,autopct='%1.2f%%')\n",
        "plt.title('Pie chart showing Agent Distribution')\n",
        "plt.show()"
      ]
    },
    {
      "cell_type": "code",
      "execution_count": 146,
      "id": "0a20cf46",
      "metadata": {
        "id": "0a20cf46",
        "outputId": "7ce91ac6-b474-4994-8622-914b7bfd054b"
      },
      "outputs": [
        {
          "data": {
            "text/plain": [
              "20516"
            ]
          },
          "execution_count": 146,
          "metadata": {},
          "output_type": "execute_result"
        }
      ],
      "source": [
        "data_H1B.AGENT_REPRESENTING_EMPLOYER.isnull().sum()"
      ]
    },
    {
      "cell_type": "markdown",
      "id": "3c4faebd",
      "metadata": {
        "id": "3c4faebd"
      },
      "source": [
        "Here we can see that 5.61% of the entries contains null values.\n",
        "\n",
        "We can replace these null values by filling the values with No assuming that the people who have left the agent name as blank does not have any agent"
      ]
    },
    {
      "cell_type": "code",
      "execution_count": 147,
      "id": "7fc64424",
      "metadata": {
        "id": "7fc64424",
        "outputId": "ff30831f-37b6-40a6-9834-cd1398224bcf"
      },
      "outputs": [
        {
          "name": "stderr",
          "output_type": "stream",
          "text": [
            "C:\\Users\\Mayurdhvajsinh\\AppData\\Local\\Temp\\ipykernel_21572\\3608433016.py:1: SettingWithCopyWarning: \n",
            "A value is trying to be set on a copy of a slice from a DataFrame\n",
            "\n",
            "See the caveats in the documentation: https://pandas.pydata.org/pandas-docs/stable/user_guide/indexing.html#returning-a-view-versus-a-copy\n",
            "  data_H1B[\"AGENT_REPRESENTING_EMPLOYER\"].fillna(\"N\",inplace=True)\n"
          ]
        }
      ],
      "source": [
        "data_H1B[\"AGENT_REPRESENTING_EMPLOYER\"].fillna(\"N\",inplace=True)"
      ]
    },
    {
      "cell_type": "code",
      "execution_count": 148,
      "id": "723c39f0",
      "metadata": {
        "id": "723c39f0",
        "outputId": "04ea1db8-3d15-4229-b328-bb4526b44cda"
      },
      "outputs": [
        {
          "data": {
            "text/plain": [
              "Y    286511\n",
              "N     79281\n",
              "Name: AGENT_REPRESENTING_EMPLOYER, dtype: int64"
            ]
          },
          "execution_count": 148,
          "metadata": {},
          "output_type": "execute_result"
        }
      ],
      "source": [
        "data_H1B.AGENT_REPRESENTING_EMPLOYER.value_counts(dropna = False)"
      ]
    },
    {
      "cell_type": "markdown",
      "id": "e0c22479",
      "metadata": {
        "id": "e0c22479"
      },
      "source": [
        "Here we can see that all the values have been replaced."
      ]
    },
    {
      "cell_type": "markdown",
      "id": "79fe0842",
      "metadata": {
        "id": "79fe0842"
      },
      "source": [
        "#### Job Title"
      ]
    },
    {
      "cell_type": "code",
      "execution_count": 149,
      "id": "9aa44b04",
      "metadata": {
        "id": "9aa44b04",
        "outputId": "a51595dd-4d12-4dd1-b44c-09f1c643f988"
      },
      "outputs": [
        {
          "data": {
            "text/plain": [
              "SOFTWARE ENGINEER            11754\n",
              "SOFTWARE DEVELOPER           11404\n",
              "SENIOR SOFTWARE ENGINEER      4243\n",
              "ASSISTANT PROFESSOR           4087\n",
              "BUSINESS ANALYST              2344\n",
              "JAVA DEVELOPER                2041\n",
              "PROGRAMMER ANALYST            1883\n",
              "DATA SCIENTIST                1820\n",
              "PROJECT MANAGER               1595\n",
              "ACCOUNTANT                    1487\n",
              "ASSOCIATE                     1432\n",
              "SYSTEMS ENGINEER              1382\n",
              "DATABASE ADMINISTRATOR        1379\n",
              "DATA ANALYST                  1321\n",
              "DEVOPS ENGINEER               1236\n",
              "APPLICATION DEVELOPER         1224\n",
              "MECHANICAL ENGINEER           1222\n",
              "RESEARCH ASSOCIATE            1203\n",
              "SENIOR SOFTWARE DEVELOPER     1123\n",
              "PROJECT ENGINEER              1112\n",
              "Name: JOB_TITLE, dtype: int64"
            ]
          },
          "execution_count": 149,
          "metadata": {},
          "output_type": "execute_result"
        }
      ],
      "source": [
        "data_H1B.JOB_TITLE.value_counts()[:20]"
      ]
    },
    {
      "cell_type": "code",
      "execution_count": 150,
      "id": "01f232ab",
      "metadata": {
        "id": "01f232ab",
        "outputId": "bf238352-2ae8-47d5-e889-0660549a7448"
      },
      "outputs": [
        {
          "data": {
            "text/plain": [
              "1"
            ]
          },
          "execution_count": 150,
          "metadata": {},
          "output_type": "execute_result"
        }
      ],
      "source": [
        "#This feature has one missing value\n",
        "data_H1B.JOB_TITLE.isnull().sum()"
      ]
    },
    {
      "cell_type": "code",
      "execution_count": 151,
      "id": "f52269af",
      "metadata": {
        "id": "f52269af"
      },
      "outputs": [],
      "source": [
        "#Dropping the row having the missing value\n",
        "data_H1B = data_H1B.dropna(subset = ['JOB_TITLE'])"
      ]
    },
    {
      "cell_type": "code",
      "execution_count": 152,
      "id": "7959d174",
      "metadata": {
        "id": "7959d174",
        "outputId": "a245b3c8-6d80-460e-c3a4-5c93bd366eea"
      },
      "outputs": [
        {
          "data": {
            "image/png": "[encoded data removed]",
            "text/plain": [
              "<Figure size 576x576 with 1 Axes>"
            ]
          },
          "metadata": {},
          "output_type": "display_data"
        }
      ],
      "source": [
        "#Plotting the top 10 JOB TITLES\n",
        "JobTitle = data_H1B.JOB_TITLE.value_counts().index[:10]\n",
        "JobTitle_values = data_H1B.JOB_TITLE.value_counts().values[:10]\n",
        "plt.figure(figsize = (8, 8))\n",
        "plt.pie(JobTitle_values, labels = JobTitle, autopct='%1.2f%%')\n",
        "plt.title('Pie chart showing the top 10 Job Titles')\n",
        "plt.show()"
      ]
    },
    {
      "cell_type": "markdown",
      "id": "9821440e",
      "metadata": {
        "id": "9821440e"
      },
      "source": [
        "From the above pie chart we can see that the majority people who applied for the H1B visas belong to the following categoies:\n",
        "1. Software Engineer\n",
        "2. Software Developer\n",
        "3. Senior Software Engineer\n",
        "4. Assistant Professor\n",
        "5. Bussiness Analyst\n",
        "6. Java Developer\n",
        "7. Programmer Analyst\n",
        "8. Data Scientist\n",
        "9. Project Manager\n",
        "10. Accountant"
      ]
    },
    {
      "cell_type": "markdown",
      "id": "e6d568a3",
      "metadata": {
        "id": "e6d568a3"
      },
      "source": [
        "#### AGENT ATTORNEY LAW FIRM BUSINESS NAME"
      ]
    },
    {
      "cell_type": "code",
      "execution_count": 153,
      "id": "8b822848",
      "metadata": {
        "id": "8b822848",
        "outputId": "d59fcdde-c27e-46e4-f732-bb98f21f620b"
      },
      "outputs": [
        {
          "data": {
            "text/plain": [
              "79408"
            ]
          },
          "execution_count": 153,
          "metadata": {},
          "output_type": "execute_result"
        }
      ],
      "source": [
        "#Checking for missing values\n",
        "data_H1B.AGENT_ATTORNEY_LAW_FIRM_BUSINESS_NAME.isnull().sum()"
      ]
    },
    {
      "cell_type": "markdown",
      "id": "2df122e2",
      "metadata": {
        "id": "2df122e2"
      },
      "source": [
        "###### Since the number of missing values is very high we cannot remove it as it can cause serious loss of data. Therefore, replacing the missing values with the mode of the data"
      ]
    },
    {
      "cell_type": "code",
      "execution_count": 154,
      "id": "a0ea4e82",
      "metadata": {
        "id": "a0ea4e82"
      },
      "outputs": [],
      "source": [
        "#Replacing it with the mode of the data\n",
        "data_H1B.AGENT_ATTORNEY_LAW_FIRM_BUSINESS_NAME.fillna(data_H1B.AGENT_ATTORNEY_LAW_FIRM_BUSINESS_NAME.mode()[0], inplace = True)"
      ]
    },
    {
      "cell_type": "markdown",
      "id": "7355a584",
      "metadata": {
        "id": "7355a584"
      },
      "source": [
        "##### Finding the companies which have the highest applications"
      ]
    },
    {
      "cell_type": "code",
      "execution_count": 155,
      "id": "c9593a10",
      "metadata": {
        "id": "c9593a10",
        "outputId": "024e7127-db49-476d-93b9-321fbef1bf76"
      },
      "outputs": [
        {
          "data": {
            "text/plain": [
              "FRAGOMEN, DEL REY, BERNSEN & LOEWY, LLP                106444\n",
              "BERRY APPLEMAN & LEIDEN LLP                             16284\n",
              "OGLETREE, DEAKINS, NASH, SMOAK & STEWART, P.C.           5386\n",
              "LAW OFFICE OF THOMAS V. ALLEN                            4070\n",
              "ERICKSON IMMIGRATION GROUP                               3603\n",
              "SEYFARTH SHAW LLP                                        3484\n",
              "FRAGOMEN, DEL REY, BERNSEN & LOEWY LLP                   2973\n",
              "FAKHOURY GLOBAL IMMIGRATION, USA PC                      2593\n",
              "GLOBAL IMMIGRATION ASSOCIATES, PC                        2460\n",
              "FRAGOMEN, DEL REY, BERNSEN & LOEWY                       2455\n",
              "INTERNATIONAL LEGAL AND BUSINESS SERVICES GROUP LLP      2440\n",
              "GLOBAL IMMIGRATION PARTNERS, INC                         2336\n",
              "PEARL LAW GROUP                                          2154\n",
              "CHUGH, LLP                                               1953\n",
              "GIBNEY, ANTHONY & FLAHERTY, LLP                          1808\n",
              "RAMINENI & SHEPARD, LLC                                  1792\n",
              "GLOBAL IMMIGRATION ASSOCIATES, P.C.                      1673\n",
              "MURTHY LAW FIRM                                          1638\n",
              "FRAGOMEN DEL REY BERNSEN & LOEWY LLP                     1594\n",
              "JOSEPH KALLABAT & ASSOCIATES, P.C.                       1532\n",
              "MORGAN, LEWIS & BOCKIUS LLP                              1529\n",
              "AKULA & ASSOCIATES, P.C.                                 1429\n",
              "THE LAW FIRM OF SIM, PARVATHANENI, AND BROWN PLLC        1404\n",
              "TAFAPOLSKY SMITH MEHLMAN LLP                             1303\n",
              "BERRY APPLEMAN AND LEIDEN LLP                            1294\n",
              "Name: AGENT_ATTORNEY_LAW_FIRM_BUSINESS_NAME, dtype: int64"
            ]
          },
          "execution_count": 155,
          "metadata": {},
          "output_type": "execute_result"
        }
      ],
      "source": [
        "all_applications = data_H1B.AGENT_ATTORNEY_LAW_FIRM_BUSINESS_NAME.value_counts()[:25]\n",
        "all_applications"
      ]
    },
    {
      "cell_type": "markdown",
      "id": "11d25697",
      "metadata": {
        "id": "11d25697"
      },
      "source": [
        "##### Finding the companies which have the highest rate of rejection"
      ]
    },
    {
      "cell_type": "code",
      "execution_count": 156,
      "id": "71f0ab8e",
      "metadata": {
        "id": "71f0ab8e",
        "outputId": "9ae64530-549a-45de-9b19-a13d5ad499be"
      },
      "outputs": [
        {
          "data": {
            "text/plain": [
              "FRAGOMEN, DEL REY, BERNSEN & LOEWY, LLP           1404\n",
              "BERRY APPLEMAN & LEIDEN LLP                        188\n",
              "OGLETREE, DEAKINS, NASH, SMOAK & STEWART, P.C.      59\n",
              "ERICKSON IMMIGRATION GROUP                          55\n",
              "EY LAW LLP                                          46\n",
              "PEARL LAW GROUP                                     31\n",
              "SEYFARTH SHAW LLP                                   30\n",
              "FRAGOMEN, DEL REY, BERNSEN & LOEWY                  26\n",
              "GLOBAL IMMIGRATION PARTNERS, INC                    23\n",
              "LAW OFFICE OF THOMAS V. ALLEN                       23\n",
              "FRAGOMEN, DEL REY, BERNSEN & LOEWY LLP              19\n",
              "LAW OFFICE OF KENNETH W. JIANG                      17\n",
              "LAW OFFICES OF D.ROBERT JONES PLLC                  15\n",
              "FRAGOMEN DEL REY BERNSEN & LOEWY LLP                14\n",
              "MORGAN, LEWIS & BOCKIUS LLP                         14\n",
              "GARFINKEL IMMIGRATION LAW FIRM                      13\n",
              "BBI LAW GROUP, P.C.                                 13\n",
              "RANA LAW FIRM                                       12\n",
              "MURTHY LAW FIRM                                     12\n",
              "GREENBERG TRAURIG, LLP                              12\n",
              "GARSON LLP                                          12\n",
              "FOSTER LLP                                          12\n",
              "CHIN & CURTIS, LLP                                  11\n",
              "GREENBERG TRAURIG LLP                               11\n",
              "FRAGOMEN, DEL REY, BERNSEN AND LOEWY LLP            11\n",
              "Name: AGENT_ATTORNEY_LAW_FIRM_BUSINESS_NAME, dtype: int64"
            ]
          },
          "execution_count": 156,
          "metadata": {},
          "output_type": "execute_result"
        }
      ],
      "source": [
        "rejection = data_H1B[(data_H1B['CASE_STATUS'] == \"DENIED\")]\n",
        "rejection.AGENT_ATTORNEY_LAW_FIRM_BUSINESS_NAME.value_counts()[:25]"
      ]
    },
    {
      "cell_type": "markdown",
      "id": "b9999dea",
      "metadata": {
        "id": "b9999dea"
      },
      "source": [
        "##### Observations\n",
        "\n",
        "The top 5 companies with the maximum rejection rates are\n",
        "\n",
        "1. FRAGOMEN, DEL REY, BERNSEN & LOEWY, LLP                  \n",
        "2. BERRY APPLEMAN & LEIDEN LLP           \n",
        "3. OGLETREE, DEAKINS, NASH, SMOAK & STEWART, P.C. \n",
        "4. ERICKSON IMMIGRATION GROUP                         \n",
        "5. EY LAW LLP"
      ]
    },
    {
      "cell_type": "markdown",
      "id": "c21b0784",
      "metadata": {
        "id": "c21b0784"
      },
      "source": [
        "#### EMPLOYER_NAME"
      ]
    },
    {
      "cell_type": "code",
      "execution_count": 157,
      "id": "de7f7ebc",
      "metadata": {
        "id": "de7f7ebc",
        "outputId": "f226baa8-8385-4f58-b776-4cd8efb51595"
      },
      "outputs": [
        {
          "data": {
            "text/plain": [
              "9"
            ]
          },
          "execution_count": 157,
          "metadata": {},
          "output_type": "execute_result"
        }
      ],
      "source": [
        "#Checking for the missing values\n",
        "data_H1B.EMPLOYER_NAME.isnull().sum()\n",
        "#There are 9 missing values under this column"
      ]
    },
    {
      "cell_type": "code",
      "execution_count": 158,
      "id": "e06f6353",
      "metadata": {
        "id": "e06f6353"
      },
      "outputs": [],
      "source": [
        "#Dropping the rows with missing values.\n",
        "data_H1B = data_H1B.dropna(subset = ['EMPLOYER_NAME'])"
      ]
    },
    {
      "cell_type": "code",
      "execution_count": 159,
      "id": "d9db0a29",
      "metadata": {
        "id": "d9db0a29",
        "outputId": "297e54a8-8008-4d91-98a5-16de7476b685"
      },
      "outputs": [
        {
          "data": {
            "text/plain": [
              "0"
            ]
          },
          "execution_count": 159,
          "metadata": {},
          "output_type": "execute_result"
        }
      ],
      "source": [
        "data_H1B.EMPLOYER_NAME.isnull().sum()"
      ]
    },
    {
      "cell_type": "code",
      "execution_count": 160,
      "id": "ccff38af",
      "metadata": {
        "id": "ccff38af",
        "outputId": "e4cf719b-c093-4a1b-e126-aafb34c5f561"
      },
      "outputs": [
        {
          "data": {
            "text/plain": [
              "GOOGLE LLC                           9206\n",
              "IBM CORPORATION                      2082\n",
              "AMAZON.COM SERVICES, INC.            1834\n",
              "DELOITTE CONSULTING LLP              1277\n",
              "IBM INDIA PRIVATE LIMITED            1113\n",
              "JPMORGAN CHASE & CO.                 1075\n",
              "FACEBOOK, INC.                       1008\n",
              "WAL-MART ASSOCIATES, INC.             839\n",
              "TATA CONSULTANCY SERVICES LIMITED     827\n",
              "APPLE INC.                            823\n",
              "SALESFORCE.COM, INC.                  808\n",
              "WIPRO LIMITED                         790\n",
              "ACCENTURE LLP                         776\n",
              "L&T TECHNOLOGY SERVICES LIMITED       746\n",
              "MICROSOFT CORPORATION                 734\n",
              "NTT DATA, INC.                        684\n",
              "LARSEN & TOUBRO INFOTECH LIMITED      670\n",
              "CUMMINS INC.                          661\n",
              "AMAZON WEB SERVICES, INC.             605\n",
              "TESLA, INC.                           580\n",
              "CISCO SYSTEMS, INC.                   558\n",
              "BANK OF AMERICA N.A.                  557\n",
              "INTEL CORPORATION                     548\n",
              "PAYPAL, INC.                          536\n",
              "POPULUS GROUP LLC                     530\n",
              "Name: EMPLOYER_NAME, dtype: int64"
            ]
          },
          "execution_count": 160,
          "metadata": {},
          "output_type": "execute_result"
        }
      ],
      "source": [
        "all_employers = data_H1B.EMPLOYER_NAME.value_counts()[:25]\n",
        "all_employers"
      ]
    },
    {
      "cell_type": "code",
      "execution_count": 161,
      "id": "c25ed7b8",
      "metadata": {
        "id": "c25ed7b8",
        "outputId": "899b7e24-bb5b-43da-cb3f-b5c1e80814cf"
      },
      "outputs": [
        {
          "data": {
            "image/png": "[encoded data removed]",
            "text/plain": [
              "<Figure size 576x576 with 1 Axes>"
            ]
          },
          "metadata": {},
          "output_type": "display_data"
        }
      ],
      "source": [
        "employers = data_H1B.EMPLOYER_NAME.value_counts().index[:10]\n",
        "employers_values = data_H1B.EMPLOYER_NAME.value_counts().values[:10]\n",
        "plt.figure(figsize = (8, 8))\n",
        "plt.pie(employers_values, labels = employers, autopct='%1.2f%%')\n",
        "plt.title('Pie chart showing the top 10 employers')\n",
        "plt.show()"
      ]
    },
    {
      "cell_type": "markdown",
      "id": "56a08eda",
      "metadata": {
        "id": "56a08eda"
      },
      "source": [
        "From the above pie chart we can see that top 10 employers are: \n",
        "1. Google LLC\n",
        "2. IBM Corporation\n",
        "3. Amazon.com Services, INC.\n",
        "4. Delloite Consulting LLP\n",
        "5. IBM India Provate Limited\n",
        "6. JP MORGAN CHASE & Co.\n",
        "7. Facebook, INC\n",
        "8. Walmart Associates\n",
        "9. TATA Consultancy Services Limited\n",
        "10. Apple INC."
      ]
    },
    {
      "cell_type": "markdown",
      "id": "9c156a03",
      "metadata": {
        "id": "9c156a03"
      },
      "source": [
        "#### EMPLOYER COUNTRY"
      ]
    },
    {
      "cell_type": "code",
      "execution_count": 162,
      "id": "f3e6c52d",
      "metadata": {
        "id": "f3e6c52d",
        "outputId": "ac033536-5e0a-46c2-d55c-c1d3ffeebcac"
      },
      "outputs": [
        {
          "data": {
            "text/plain": [
              "20508"
            ]
          },
          "execution_count": 162,
          "metadata": {},
          "output_type": "execute_result"
        }
      ],
      "source": [
        "#Checking for missing values\n",
        "data_H1B.EMPLOYER_COUNTRY.isnull().sum()"
      ]
    },
    {
      "cell_type": "code",
      "execution_count": 163,
      "id": "a98e46b3",
      "metadata": {
        "id": "a98e46b3"
      },
      "outputs": [],
      "source": [
        "#Replacing it with the mode of the data i.e USA\n",
        "data_H1B.EMPLOYER_COUNTRY.fillna(data_H1B.EMPLOYER_COUNTRY.mode()[0], inplace = True)"
      ]
    },
    {
      "cell_type": "code",
      "execution_count": 164,
      "id": "9e8eea85",
      "metadata": {
        "id": "9e8eea85",
        "outputId": "f108b005-19db-4baf-a0bc-ecb82713eef8"
      },
      "outputs": [
        {
          "data": {
            "text/plain": [
              "0"
            ]
          },
          "execution_count": 164,
          "metadata": {},
          "output_type": "execute_result"
        }
      ],
      "source": [
        "data_H1B.EMPLOYER_COUNTRY.isnull().sum()"
      ]
    },
    {
      "cell_type": "code",
      "execution_count": 165,
      "id": "f1e6e949",
      "metadata": {
        "id": "f1e6e949",
        "outputId": "20277735-46ae-4433-bb44-f20eb202e46c"
      },
      "outputs": [
        {
          "data": {
            "text/plain": [
              "UNITED STATES OF AMERICA    365753\n",
              "CANADA                          19\n",
              "INDIA                            3\n",
              "GUATEMALA                        2\n",
              "ALBANIA                          2\n",
              "TURKEY                           1\n",
              "AFGHANISTAN                      1\n",
              "AUSTRALIA                        1\n",
              "Name: EMPLOYER_COUNTRY, dtype: int64"
            ]
          },
          "execution_count": 165,
          "metadata": {},
          "output_type": "execute_result"
        }
      ],
      "source": [
        "data_H1B.EMPLOYER_COUNTRY.value_counts()"
      ]
    },
    {
      "cell_type": "markdown",
      "id": "7e728b64",
      "metadata": {
        "id": "7e728b64"
      },
      "source": [
        "In majority of the applications we find that the Employer is from USA\n",
        "Minimum number of applications are from Turkey, Australia and Afghanistan"
      ]
    },
    {
      "cell_type": "markdown",
      "id": "3c38816f",
      "metadata": {
        "id": "3c38816f"
      },
      "source": [
        "#### SOC TITLE"
      ]
    },
    {
      "cell_type": "code",
      "execution_count": 166,
      "id": "11aa4d9a",
      "metadata": {
        "id": "11aa4d9a",
        "outputId": "ab4059c6-ccd1-4fce-c9b7-5f3fb4e3fce5"
      },
      "outputs": [
        {
          "data": {
            "text/plain": [
              "3"
            ]
          },
          "execution_count": 166,
          "metadata": {},
          "output_type": "execute_result"
        }
      ],
      "source": [
        "#Checking for the missing values\n",
        "data_H1B.SOC_TITLE.isnull().sum()"
      ]
    },
    {
      "cell_type": "code",
      "execution_count": 167,
      "id": "303e722e",
      "metadata": {
        "id": "303e722e"
      },
      "outputs": [],
      "source": [
        "#Dropping the rows with missing values\n",
        "data_H1B = data_H1B.dropna(subset = ['SOC_TITLE'])"
      ]
    },
    {
      "cell_type": "code",
      "execution_count": 168,
      "id": "c531d633",
      "metadata": {
        "id": "c531d633",
        "outputId": "2f342392-e316-4018-ac46-89b2148164cf"
      },
      "outputs": [
        {
          "data": {
            "text/plain": [
              "SOFTWARE DEVELOPERS, APPLICATIONS                     112157\n",
              "COMPUTER OCCUPATIONS, ALL OTHER                        30649\n",
              "SOFTWARE DEVELOPERS, SYSTEMS SOFTWARE                  20897\n",
              "COMPUTER SYSTEMS ANALYSTS                              14052\n",
              "MECHANICAL ENGINEERS                                    8937\n",
              "                                                       ...  \n",
              "MECHANICAL ENGINEEERS                                      1\n",
              "MECHANCIAL ENGINEER                                        1\n",
              "INDUSTRIAL ENGINEER                                        1\n",
              "HEALTH AND SAFETY ENGS., EXCEPT MINING SAFETY ENGS         1\n",
              "15-2031                                                    1\n",
              "Name: SOC_TITLE, Length: 859, dtype: int64"
            ]
          },
          "execution_count": 168,
          "metadata": {},
          "output_type": "execute_result"
        }
      ],
      "source": [
        "data_H1B.SOC_TITLE.value_counts()"
      ]
    },
    {
      "cell_type": "code",
      "execution_count": 169,
      "id": "d36ac1b5",
      "metadata": {
        "id": "d36ac1b5",
        "outputId": "6deafcce-93bb-4790-d1a0-b9974be6d0d3"
      },
      "outputs": [
        {
          "data": {
            "image/png": "[encoded data removed]",
            "text/plain": [
              "<Figure size 576x576 with 1 Axes>"
            ]
          },
          "metadata": {},
          "output_type": "display_data"
        }
      ],
      "source": [
        "plt.figure(figsize = (8, 8))\n",
        "plt.pie(data_H1B.SOC_TITLE.value_counts().values[:10], labels = data_H1B.SOC_TITLE.value_counts().index[:10], autopct='%1.2f%%')\n",
        "plt.title('Pie chart showing the top 10 SOC Titles')\n",
        "plt.show()"
      ]
    },
    {
      "cell_type": "markdown",
      "id": "0187cd4e",
      "metadata": {
        "id": "0187cd4e"
      },
      "source": [
        "The applications had the following occupational categories: \n",
        "1. Software Developers and Applications\n",
        "2. Computer Operations and Others\n",
        "3. Software Developers, System Software\n",
        "4. Computer Systems Analyst\n",
        "5. Mechanical Engineers\n",
        "6. Operations Research Analyst\n",
        "7. Computer and information systems managers\n",
        "8. Statisticians\n",
        "9. Database Administrators\n",
        "10. Electrical Engineers"
      ]
    },
    {
      "cell_type": "markdown",
      "id": "73f40009",
      "metadata": {
        "id": "73f40009"
      },
      "source": [
        "#### H1B DEPENDENT"
      ]
    },
    {
      "cell_type": "code",
      "execution_count": 170,
      "id": "495cb290",
      "metadata": {
        "id": "495cb290",
        "outputId": "98685e4f-5ae3-4cee-9983-d4da809c68cd"
      },
      "outputs": [
        {
          "data": {
            "text/plain": [
              "N      280140\n",
              "Y       85624\n",
              "NaN        15\n",
              "Name: H-1B_DEPENDENT, dtype: int64"
            ]
          },
          "execution_count": 170,
          "metadata": {},
          "output_type": "execute_result"
        }
      ],
      "source": [
        "data_H1B['H-1B_DEPENDENT'].value_counts(dropna = False)"
      ]
    },
    {
      "cell_type": "code",
      "execution_count": 171,
      "id": "01f8ca2f",
      "metadata": {
        "id": "01f8ca2f"
      },
      "outputs": [],
      "source": [
        "data_H1B = data_H1B.dropna(subset = ['H-1B_DEPENDENT'])"
      ]
    },
    {
      "cell_type": "code",
      "execution_count": 172,
      "id": "7c351746",
      "metadata": {
        "id": "7c351746",
        "outputId": "15eab743-b696-4e89-fd27-8643801f28f1"
      },
      "outputs": [
        {
          "data": {
            "text/plain": [
              "['CASE_STATUS',\n",
              " 'VISA_CLASS',\n",
              " 'EMPLOYER_NAME',\n",
              " 'EMPLOYER_COUNTRY',\n",
              " 'AGENT_REPRESENTING_EMPLOYER',\n",
              " 'JOB_TITLE',\n",
              " 'SOC_TITLE',\n",
              " 'H-1B_DEPENDENT',\n",
              " 'SUPPORT_H1B',\n",
              " 'AGENT_ATTORNEY_LAW_FIRM_BUSINESS_NAME',\n",
              " 'WILLFUL_VIOLATOR']"
            ]
          },
          "execution_count": 172,
          "metadata": {},
          "output_type": "execute_result"
        }
      ],
      "source": [
        "Categorical"
      ]
    },
    {
      "cell_type": "markdown",
      "id": "b75cceb9",
      "metadata": {
        "id": "b75cceb9"
      },
      "source": [
        "#### SUPPORT_H1B"
      ]
    },
    {
      "cell_type": "code",
      "execution_count": 173,
      "id": "3ec6ad5d",
      "metadata": {
        "id": "3ec6ad5d",
        "outputId": "648eef10-8b21-427a-94f7-a10421956ad1"
      },
      "outputs": [
        {
          "data": {
            "text/plain": [
              "NaN    279695\n",
              "Y       84654\n",
              "N        1415\n",
              "Name: SUPPORT_H1B, dtype: int64"
            ]
          },
          "execution_count": 173,
          "metadata": {},
          "output_type": "execute_result"
        }
      ],
      "source": [
        "data_H1B['SUPPORT_H1B'].value_counts(dropna = False)"
      ]
    },
    {
      "cell_type": "code",
      "execution_count": 174,
      "id": "4ec697a0",
      "metadata": {
        "id": "4ec697a0"
      },
      "outputs": [],
      "source": [
        "#Replacing it with the mode of the data\n",
        "data_H1B.SUPPORT_H1B.fillna(data_H1B.SUPPORT_H1B.mode()[0], inplace = True)"
      ]
    },
    {
      "cell_type": "code",
      "execution_count": 175,
      "id": "b6d2afad",
      "metadata": {
        "id": "b6d2afad",
        "outputId": "471e93e5-d222-490b-a95c-ad088c574ecb"
      },
      "outputs": [
        {
          "data": {
            "text/plain": [
              "Y    364349\n",
              "N      1415\n",
              "Name: SUPPORT_H1B, dtype: int64"
            ]
          },
          "execution_count": 175,
          "metadata": {},
          "output_type": "execute_result"
        }
      ],
      "source": [
        "data_H1B['SUPPORT_H1B'].value_counts(dropna = False)"
      ]
    },
    {
      "cell_type": "markdown",
      "id": "aed865db",
      "metadata": {
        "id": "aed865db"
      },
      "source": [
        "#### WILLFUL_VIOLATOR"
      ]
    },
    {
      "cell_type": "code",
      "execution_count": 176,
      "id": "daed3fa3",
      "metadata": {
        "id": "daed3fa3",
        "outputId": "73b267b9-1a9e-44d2-9136-a55d525f1bab"
      },
      "outputs": [
        {
          "data": {
            "text/plain": [
              "N    365499\n",
              "Y       265\n",
              "Name: WILLFUL_VIOLATOR, dtype: int64"
            ]
          },
          "execution_count": 176,
          "metadata": {},
          "output_type": "execute_result"
        }
      ],
      "source": [
        "data_H1B['WILLFUL_VIOLATOR'].value_counts(dropna = False)"
      ]
    },
    {
      "cell_type": "markdown",
      "id": "fb4afd8d",
      "metadata": {
        "id": "fb4afd8d"
      },
      "source": [
        "#### LABEL ENCODING THE CATEGORICAL VALUES"
      ]
    },
    {
      "cell_type": "code",
      "execution_count": 177,
      "id": "dc82da0d",
      "metadata": {
        "id": "dc82da0d",
        "outputId": "ae55da0e-8a6c-44f2-b5cd-ac9c3bfb7901"
      },
      "outputs": [
        {
          "data": {
            "text/plain": [
              "['CASE_STATUS',\n",
              " 'VISA_CLASS',\n",
              " 'EMPLOYER_NAME',\n",
              " 'EMPLOYER_COUNTRY',\n",
              " 'AGENT_REPRESENTING_EMPLOYER',\n",
              " 'JOB_TITLE',\n",
              " 'SOC_TITLE',\n",
              " 'H-1B_DEPENDENT',\n",
              " 'SUPPORT_H1B',\n",
              " 'AGENT_ATTORNEY_LAW_FIRM_BUSINESS_NAME',\n",
              " 'WILLFUL_VIOLATOR']"
            ]
          },
          "execution_count": 177,
          "metadata": {},
          "output_type": "execute_result"
        }
      ],
      "source": [
        "Categorical"
      ]
    },
    {
      "cell_type": "code",
      "execution_count": 178,
      "id": "ad70fe34",
      "metadata": {
        "id": "ad70fe34"
      },
      "outputs": [],
      "source": [
        "from sklearn.preprocessing import LabelEncoder\n",
        "le = LabelEncoder() #creating an object of LabelEncoder class\n",
        "WillfulVoilator = le.fit_transform(data_H1B['WILLFUL_VIOLATOR'])\n",
        "SupportH1B = le.fit_transform(data_H1B['SUPPORT_H1B'])\n",
        "H1B_Dependent = le.fit_transform(data_H1B['H-1B_DEPENDENT'])\n",
        "SOCTitle = le.fit_transform(data_H1B['SOC_TITLE'])\n",
        "CountryEmployer = le.fit_transform(data_H1B['EMPLOYER_COUNTRY'])\n",
        "EmployerName = le.fit_transform(data_H1B['EMPLOYER_NAME'].astype(str))\n",
        "CaseStatus = le.fit_transform(data_H1B['CASE_STATUS'])\n",
        "VisaClass = le.fit_transform(data_H1B['VISA_CLASS'])\n",
        "LawFirm = le.fit_transform(data_H1B['AGENT_ATTORNEY_LAW_FIRM_BUSINESS_NAME'].astype(str))\n",
        "AgentRepresentingEmployer = le.fit_transform(data_H1B['AGENT_REPRESENTING_EMPLOYER'])\n",
        "JobTitle = le.fit_transform(data_H1B['JOB_TITLE'].astype(str))\n",
        "SOCCode = le.fit_transform(data_H1B['SOC_CODE'])"
      ]
    },
    {
      "cell_type": "code",
      "execution_count": 179,
      "id": "7fca8259",
      "metadata": {
        "id": "7fca8259"
      },
      "outputs": [],
      "source": [
        "data_H1B['WILLFUL_VIOLATOR'] = WillfulVoilator\n",
        "data_H1B['SUPPORT_H1B'] = SupportH1B\n",
        "data_H1B['H-1B_DEPENDENT'] = H1B_Dependent\n",
        "data_H1B['SOC_TITLE'] = SOCTitle\n",
        "data_H1B['EMPLOYER_COUNTRY'] = CountryEmployer\n",
        "data_H1B['EMPLOYER_NAME'] = EmployerName\n",
        "data_H1B['CASE_STATUS'] = CaseStatus\n",
        "data_H1B['VISA_CLASS'] = VisaClass \n",
        "data_H1B['AGENT_ATTORNEY_LAW_FIRM_BUSINESS_NAME'] = LawFirm \n",
        "data_H1B['AGENT_REPRESENTING_EMPLOYER'] = AgentRepresentingEmployer\n",
        "data_H1B['SOC_CODE'] = SOCCode\n",
        "data_H1B['JOB_TITLE'] = JobTitle"
      ]
    },
    {
      "cell_type": "code",
      "execution_count": 180,
      "id": "beb588c2",
      "metadata": {
        "id": "beb588c2",
        "outputId": "93ff1bcf-2d19-46a2-be86-bd98fde4e493"
      },
      "outputs": [
        {
          "data": {
            "text/plain": [
              "0"
            ]
          },
          "execution_count": 180,
          "metadata": {},
          "output_type": "execute_result"
        }
      ],
      "source": [
        "#There are no missing values under the SOC CODE\n",
        "data_H1B.SOC_CODE.isnull().sum()"
      ]
    },
    {
      "cell_type": "code",
      "execution_count": 181,
      "id": "81fef828",
      "metadata": {
        "id": "81fef828",
        "outputId": "dca8049a-3825-43a6-9d4e-2d1e31781861"
      },
      "outputs": [
        {
          "data": {
            "text/plain": [
              "95     112373\n",
              "108     31273\n",
              "97      20922\n",
              "92      14378\n",
              "157      8952\n",
              "        ...  \n",
              "327         1\n",
              "55          1\n",
              "334         1\n",
              "50          1\n",
              "526         1\n",
              "Name: SOC_CODE, Length: 527, dtype: int64"
            ]
          },
          "execution_count": 181,
          "metadata": {},
          "output_type": "execute_result"
        }
      ],
      "source": [
        "data_H1B.SOC_CODE.value_counts()"
      ]
    },
    {
      "cell_type": "code",
      "execution_count": 182,
      "id": "9a9660d9",
      "metadata": {
        "id": "9a9660d9",
        "outputId": "2f6a3c0c-7a80-43d3-e6b1-c9751a67d344"
      },
      "outputs": [
        {
          "data": {
            "text/html": [
              "<div>\n",
              "<style scoped>\n",
              "    .dataframe tbody tr th:only-of-type {\n",
              "        vertical-align: middle;\n",
              "    }\n",
              "\n",
              "    .dataframe tbody tr th {\n",
              "        vertical-align: top;\n",
              "    }\n",
              "\n",
              "    .dataframe thead th {\n",
              "        text-align: right;\n",
              "    }\n",
              "</style>\n",
              "<table border=\"1\" class=\"dataframe\">\n",
              "  <thead>\n",
              "    <tr style=\"text-align: right;\">\n",
              "      <th></th>\n",
              "      <th>CASE_STATUS</th>\n",
              "      <th>VISA_CLASS</th>\n",
              "      <th>EMPLOYER_NAME</th>\n",
              "      <th>EMPLOYER_COUNTRY</th>\n",
              "      <th>AGENT_REPRESENTING_EMPLOYER</th>\n",
              "      <th>JOB_TITLE</th>\n",
              "      <th>SOC_TITLE</th>\n",
              "      <th>SOC_CODE</th>\n",
              "      <th>NAICS_CODE</th>\n",
              "      <th>CONTINUED_EMPLOYMENT</th>\n",
              "      <th>CHANGE_PREVIOUS_EMPLOYMENT</th>\n",
              "      <th>NEW_CONCURRENT_EMPLOYMENT</th>\n",
              "      <th>CHANGE_EMPLOYER</th>\n",
              "      <th>AMENDED_PETITION</th>\n",
              "      <th>H-1B_DEPENDENT</th>\n",
              "      <th>WILLFUL_VIOLATOR</th>\n",
              "      <th>AGENT_ATTORNEY_LAW_FIRM_BUSINESS_NAME</th>\n",
              "      <th>SUPPORT_H1B</th>\n",
              "      <th>TOTAL_WORKER_POSITIONS</th>\n",
              "    </tr>\n",
              "  </thead>\n",
              "  <tbody>\n",
              "    <tr>\n",
              "      <th>0</th>\n",
              "      <td>3</td>\n",
              "      <td>0</td>\n",
              "      <td>47135</td>\n",
              "      <td>7</td>\n",
              "      <td>0</td>\n",
              "      <td>7659</td>\n",
              "      <td>14</td>\n",
              "      <td>2</td>\n",
              "      <td>541810.0</td>\n",
              "      <td>1</td>\n",
              "      <td>0</td>\n",
              "      <td>0.0</td>\n",
              "      <td>0</td>\n",
              "      <td>0</td>\n",
              "      <td>0</td>\n",
              "      <td>0</td>\n",
              "      <td>1520</td>\n",
              "      <td>1</td>\n",
              "      <td>1.0</td>\n",
              "    </tr>\n",
              "    <tr>\n",
              "      <th>5</th>\n",
              "      <td>3</td>\n",
              "      <td>0</td>\n",
              "      <td>36533</td>\n",
              "      <td>7</td>\n",
              "      <td>0</td>\n",
              "      <td>33179</td>\n",
              "      <td>14</td>\n",
              "      <td>2</td>\n",
              "      <td>541810.0</td>\n",
              "      <td>1</td>\n",
              "      <td>0</td>\n",
              "      <td>0.0</td>\n",
              "      <td>0</td>\n",
              "      <td>0</td>\n",
              "      <td>0</td>\n",
              "      <td>0</td>\n",
              "      <td>1520</td>\n",
              "      <td>1</td>\n",
              "      <td>1.0</td>\n",
              "    </tr>\n",
              "    <tr>\n",
              "      <th>6</th>\n",
              "      <td>3</td>\n",
              "      <td>0</td>\n",
              "      <td>37474</td>\n",
              "      <td>7</td>\n",
              "      <td>1</td>\n",
              "      <td>24151</td>\n",
              "      <td>14</td>\n",
              "      <td>2</td>\n",
              "      <td>454111.0</td>\n",
              "      <td>0</td>\n",
              "      <td>1</td>\n",
              "      <td>0.0</td>\n",
              "      <td>0</td>\n",
              "      <td>0</td>\n",
              "      <td>0</td>\n",
              "      <td>0</td>\n",
              "      <td>1517</td>\n",
              "      <td>1</td>\n",
              "      <td>1.0</td>\n",
              "    </tr>\n",
              "    <tr>\n",
              "      <th>7</th>\n",
              "      <td>3</td>\n",
              "      <td>0</td>\n",
              "      <td>32327</td>\n",
              "      <td>7</td>\n",
              "      <td>1</td>\n",
              "      <td>34565</td>\n",
              "      <td>14</td>\n",
              "      <td>2</td>\n",
              "      <td>541990.0</td>\n",
              "      <td>1</td>\n",
              "      <td>0</td>\n",
              "      <td>0.0</td>\n",
              "      <td>0</td>\n",
              "      <td>0</td>\n",
              "      <td>0</td>\n",
              "      <td>0</td>\n",
              "      <td>1103</td>\n",
              "      <td>1</td>\n",
              "      <td>1.0</td>\n",
              "    </tr>\n",
              "    <tr>\n",
              "      <th>8</th>\n",
              "      <td>3</td>\n",
              "      <td>0</td>\n",
              "      <td>55256</td>\n",
              "      <td>7</td>\n",
              "      <td>1</td>\n",
              "      <td>405</td>\n",
              "      <td>14</td>\n",
              "      <td>2</td>\n",
              "      <td>541820.0</td>\n",
              "      <td>1</td>\n",
              "      <td>0</td>\n",
              "      <td>0.0</td>\n",
              "      <td>0</td>\n",
              "      <td>0</td>\n",
              "      <td>0</td>\n",
              "      <td>0</td>\n",
              "      <td>5965</td>\n",
              "      <td>1</td>\n",
              "      <td>1.0</td>\n",
              "    </tr>\n",
              "    <tr>\n",
              "      <th>...</th>\n",
              "      <td>...</td>\n",
              "      <td>...</td>\n",
              "      <td>...</td>\n",
              "      <td>...</td>\n",
              "      <td>...</td>\n",
              "      <td>...</td>\n",
              "      <td>...</td>\n",
              "      <td>...</td>\n",
              "      <td>...</td>\n",
              "      <td>...</td>\n",
              "      <td>...</td>\n",
              "      <td>...</td>\n",
              "      <td>...</td>\n",
              "      <td>...</td>\n",
              "      <td>...</td>\n",
              "      <td>...</td>\n",
              "      <td>...</td>\n",
              "      <td>...</td>\n",
              "      <td>...</td>\n",
              "    </tr>\n",
              "    <tr>\n",
              "      <th>664605</th>\n",
              "      <td>0</td>\n",
              "      <td>0</td>\n",
              "      <td>29837</td>\n",
              "      <td>7</td>\n",
              "      <td>1</td>\n",
              "      <td>37346</td>\n",
              "      <td>836</td>\n",
              "      <td>524</td>\n",
              "      <td>541380.0</td>\n",
              "      <td>0</td>\n",
              "      <td>0</td>\n",
              "      <td>0.0</td>\n",
              "      <td>0</td>\n",
              "      <td>1</td>\n",
              "      <td>0</td>\n",
              "      <td>0</td>\n",
              "      <td>1491</td>\n",
              "      <td>1</td>\n",
              "      <td>1.0</td>\n",
              "    </tr>\n",
              "    <tr>\n",
              "      <th>664608</th>\n",
              "      <td>0</td>\n",
              "      <td>0</td>\n",
              "      <td>29837</td>\n",
              "      <td>7</td>\n",
              "      <td>1</td>\n",
              "      <td>37350</td>\n",
              "      <td>836</td>\n",
              "      <td>524</td>\n",
              "      <td>541380.0</td>\n",
              "      <td>1</td>\n",
              "      <td>0</td>\n",
              "      <td>0.0</td>\n",
              "      <td>0</td>\n",
              "      <td>0</td>\n",
              "      <td>0</td>\n",
              "      <td>0</td>\n",
              "      <td>1491</td>\n",
              "      <td>1</td>\n",
              "      <td>1.0</td>\n",
              "    </tr>\n",
              "    <tr>\n",
              "      <th>664609</th>\n",
              "      <td>2</td>\n",
              "      <td>0</td>\n",
              "      <td>45221</td>\n",
              "      <td>7</td>\n",
              "      <td>0</td>\n",
              "      <td>18426</td>\n",
              "      <td>230</td>\n",
              "      <td>525</td>\n",
              "      <td>488320.0</td>\n",
              "      <td>0</td>\n",
              "      <td>0</td>\n",
              "      <td>0.0</td>\n",
              "      <td>0</td>\n",
              "      <td>0</td>\n",
              "      <td>0</td>\n",
              "      <td>0</td>\n",
              "      <td>1520</td>\n",
              "      <td>1</td>\n",
              "      <td>6.0</td>\n",
              "    </tr>\n",
              "    <tr>\n",
              "      <th>664610</th>\n",
              "      <td>0</td>\n",
              "      <td>0</td>\n",
              "      <td>45221</td>\n",
              "      <td>7</td>\n",
              "      <td>0</td>\n",
              "      <td>18426</td>\n",
              "      <td>230</td>\n",
              "      <td>525</td>\n",
              "      <td>488320.0</td>\n",
              "      <td>0</td>\n",
              "      <td>0</td>\n",
              "      <td>0.0</td>\n",
              "      <td>0</td>\n",
              "      <td>0</td>\n",
              "      <td>0</td>\n",
              "      <td>0</td>\n",
              "      <td>1520</td>\n",
              "      <td>1</td>\n",
              "      <td>6.0</td>\n",
              "    </tr>\n",
              "    <tr>\n",
              "      <th>664611</th>\n",
              "      <td>0</td>\n",
              "      <td>0</td>\n",
              "      <td>3366</td>\n",
              "      <td>7</td>\n",
              "      <td>1</td>\n",
              "      <td>23749</td>\n",
              "      <td>1</td>\n",
              "      <td>526</td>\n",
              "      <td>524113.0</td>\n",
              "      <td>0</td>\n",
              "      <td>0</td>\n",
              "      <td>0.0</td>\n",
              "      <td>1</td>\n",
              "      <td>0</td>\n",
              "      <td>0</td>\n",
              "      <td>0</td>\n",
              "      <td>4281</td>\n",
              "      <td>1</td>\n",
              "      <td>1.0</td>\n",
              "    </tr>\n",
              "  </tbody>\n",
              "</table>\n",
              "<p>365764 rows × 19 columns</p>\n",
              "</div>"
            ],
            "text/plain": [
              "        CASE_STATUS  VISA_CLASS  EMPLOYER_NAME  EMPLOYER_COUNTRY  \\\n",
              "0                 3           0          47135                 7   \n",
              "5                 3           0          36533                 7   \n",
              "6                 3           0          37474                 7   \n",
              "7                 3           0          32327                 7   \n",
              "8                 3           0          55256                 7   \n",
              "...             ...         ...            ...               ...   \n",
              "664605            0           0          29837                 7   \n",
              "664608            0           0          29837                 7   \n",
              "664609            2           0          45221                 7   \n",
              "664610            0           0          45221                 7   \n",
              "664611            0           0           3366                 7   \n",
              "\n",
              "        AGENT_REPRESENTING_EMPLOYER  JOB_TITLE  SOC_TITLE  SOC_CODE  \\\n",
              "0                                 0       7659         14         2   \n",
              "5                                 0      33179         14         2   \n",
              "6                                 1      24151         14         2   \n",
              "7                                 1      34565         14         2   \n",
              "8                                 1        405         14         2   \n",
              "...                             ...        ...        ...       ...   \n",
              "664605                            1      37346        836       524   \n",
              "664608                            1      37350        836       524   \n",
              "664609                            0      18426        230       525   \n",
              "664610                            0      18426        230       525   \n",
              "664611                            1      23749          1       526   \n",
              "\n",
              "        NAICS_CODE CONTINUED_EMPLOYMENT  CHANGE_PREVIOUS_EMPLOYMENT  \\\n",
              "0         541810.0                    1                           0   \n",
              "5         541810.0                    1                           0   \n",
              "6         454111.0                    0                           1   \n",
              "7         541990.0                    1                           0   \n",
              "8         541820.0                    1                           0   \n",
              "...            ...                  ...                         ...   \n",
              "664605    541380.0                    0                           0   \n",
              "664608    541380.0                    1                           0   \n",
              "664609    488320.0                    0                           0   \n",
              "664610    488320.0                    0                           0   \n",
              "664611    524113.0                    0                           0   \n",
              "\n",
              "        NEW_CONCURRENT_EMPLOYMENT  CHANGE_EMPLOYER  AMENDED_PETITION  \\\n",
              "0                             0.0                0                 0   \n",
              "5                             0.0                0                 0   \n",
              "6                             0.0                0                 0   \n",
              "7                             0.0                0                 0   \n",
              "8                             0.0                0                 0   \n",
              "...                           ...              ...               ...   \n",
              "664605                        0.0                0                 1   \n",
              "664608                        0.0                0                 0   \n",
              "664609                        0.0                0                 0   \n",
              "664610                        0.0                0                 0   \n",
              "664611                        0.0                1                 0   \n",
              "\n",
              "        H-1B_DEPENDENT  WILLFUL_VIOLATOR  \\\n",
              "0                    0                 0   \n",
              "5                    0                 0   \n",
              "6                    0                 0   \n",
              "7                    0                 0   \n",
              "8                    0                 0   \n",
              "...                ...               ...   \n",
              "664605               0                 0   \n",
              "664608               0                 0   \n",
              "664609               0                 0   \n",
              "664610               0                 0   \n",
              "664611               0                 0   \n",
              "\n",
              "        AGENT_ATTORNEY_LAW_FIRM_BUSINESS_NAME  SUPPORT_H1B  \\\n",
              "0                                        1520            1   \n",
              "5                                        1520            1   \n",
              "6                                        1517            1   \n",
              "7                                        1103            1   \n",
              "8                                        5965            1   \n",
              "...                                       ...          ...   \n",
              "664605                                   1491            1   \n",
              "664608                                   1491            1   \n",
              "664609                                   1520            1   \n",
              "664610                                   1520            1   \n",
              "664611                                   4281            1   \n",
              "\n",
              "        TOTAL_WORKER_POSITIONS  \n",
              "0                          1.0  \n",
              "5                          1.0  \n",
              "6                          1.0  \n",
              "7                          1.0  \n",
              "8                          1.0  \n",
              "...                        ...  \n",
              "664605                     1.0  \n",
              "664608                     1.0  \n",
              "664609                     6.0  \n",
              "664610                     6.0  \n",
              "664611                     1.0  \n",
              "\n",
              "[365764 rows x 19 columns]"
            ]
          },
          "execution_count": 182,
          "metadata": {},
          "output_type": "execute_result"
        }
      ],
      "source": [
        "data_H1B"
      ]
    },
    {
      "cell_type": "markdown",
      "id": "08c5c76a",
      "metadata": {
        "id": "08c5c76a"
      },
      "source": [
        "## Univariate Analysis on the Numerical Variables"
      ]
    },
    {
      "cell_type": "code",
      "execution_count": 183,
      "id": "56ca0582",
      "metadata": {
        "id": "56ca0582"
      },
      "outputs": [],
      "source": [
        "data_H1B.CONTINUED_EMPLOYMENT.value_counts()\n",
        "data_H1B.drop(data_H1B[data_H1B['CONTINUED_EMPLOYMENT'] == 'B'].index, inplace = True)"
      ]
    },
    {
      "cell_type": "code",
      "execution_count": 184,
      "id": "9a782e84",
      "metadata": {
        "id": "9a782e84",
        "outputId": "d2da92e6-0c7f-497d-f178-75054ed99c22"
      },
      "outputs": [
        {
          "data": {
            "text/plain": [
              "0      259306\n",
              "1       72002\n",
              "0       19964\n",
              "1        9738\n",
              "2        1186\n",
              "5        1105\n",
              "4         830\n",
              "10        283\n",
              "3         270\n",
              "2         207\n",
              "5         148\n",
              "01        132\n",
              "10        120\n",
              "3         113\n",
              "4          66\n",
              "25         46\n",
              "6          37\n",
              "8          34\n",
              "15         33\n",
              "20         29\n",
              "15         15\n",
              "12         13\n",
              "30         12\n",
              "6          11\n",
              "50          9\n",
              "8           8\n",
              "12          6\n",
              "40          5\n",
              "001         5\n",
              "18          3\n",
              "13          3\n",
              "7           3\n",
              "02          2\n",
              "25          2\n",
              "40          2\n",
              "35          2\n",
              "30          1\n",
              "18          1\n",
              "21          1\n",
              "50          1\n",
              "99          1\n",
              "20          1\n",
              "17          1\n",
              "00          1\n",
              "99          1\n",
              "45          1\n",
              "11          1\n",
              "Name: CONTINUED_EMPLOYMENT, dtype: int64"
            ]
          },
          "execution_count": 184,
          "metadata": {},
          "output_type": "execute_result"
        }
      ],
      "source": [
        "data_H1B.CONTINUED_EMPLOYMENT.value_counts()"
      ]
    },
    {
      "cell_type": "code",
      "execution_count": null,
      "id": "06b39b7e",
      "metadata": {
        "id": "06b39b7e"
      },
      "outputs": [],
      "source": []
    },
    {
      "cell_type": "code",
      "execution_count": 185,
      "id": "3a8e765b",
      "metadata": {
        "id": "3a8e765b",
        "outputId": "099fe1f6-ca04-427b-cb20-cdd9921d0555"
      },
      "outputs": [
        {
          "data": {
            "text/plain": [
              "0     317054\n",
              "1      43694\n",
              "5       1534\n",
              "2       1320\n",
              "4        893\n",
              "3        547\n",
              "10       355\n",
              "15       284\n",
              "11        26\n",
              "6         22\n",
              "20        15\n",
              "8          6\n",
              "30         3\n",
              "7          3\n",
              "99         2\n",
              "14         1\n",
              "25         1\n",
              "35         1\n",
              "Name: AMENDED_PETITION, dtype: int64"
            ]
          },
          "execution_count": 185,
          "metadata": {},
          "output_type": "execute_result"
        }
      ],
      "source": [
        "data_H1B.AMENDED_PETITION.value_counts()"
      ]
    },
    {
      "cell_type": "markdown",
      "id": "b7a9a9ca",
      "metadata": {
        "id": "b7a9a9ca"
      },
      "source": [
        "#### NAICS_CODE"
      ]
    },
    {
      "cell_type": "code",
      "execution_count": 186,
      "id": "dcfe6151",
      "metadata": {
        "id": "dcfe6151",
        "outputId": "7ff655cb-9e15-4bca-d76f-56c8ee75cfc7"
      },
      "outputs": [
        {
          "data": {
            "text/plain": [
              "1"
            ]
          },
          "execution_count": 186,
          "metadata": {},
          "output_type": "execute_result"
        }
      ],
      "source": [
        "data_H1B.NAICS_CODE.isnull().sum()"
      ]
    },
    {
      "cell_type": "code",
      "execution_count": 187,
      "id": "acb2725a",
      "metadata": {
        "id": "acb2725a"
      },
      "outputs": [],
      "source": [
        "data_H1B = data_H1B.dropna(subset = ['NAICS_CODE'])"
      ]
    },
    {
      "cell_type": "code",
      "execution_count": 188,
      "id": "5b0babb1",
      "metadata": {
        "id": "5b0babb1",
        "outputId": "3fd8796a-fee7-4f24-ff45-d8403ecaa62c"
      },
      "outputs": [
        {
          "data": {
            "text/plain": [
              "0"
            ]
          },
          "execution_count": 188,
          "metadata": {},
          "output_type": "execute_result"
        }
      ],
      "source": [
        "data_H1B.NAICS_CODE.isnull().sum()"
      ]
    },
    {
      "cell_type": "code",
      "execution_count": 189,
      "id": "c4ceb7fc",
      "metadata": {
        "id": "c4ceb7fc",
        "outputId": "5f04c874-5b51-45fc-8cb4-fa8edf20295e"
      },
      "outputs": [
        {
          "data": {
            "text/plain": [
              "541511.0    93428\n",
              "541512.0    25980\n",
              "611310.0    21380\n",
              "541519.0    10099\n",
              "541330.0     9899\n",
              "            ...  \n",
              "8114.0          1\n",
              "44531.0         1\n",
              "42443.0         1\n",
              "44512.0         1\n",
              "54187.0         1\n",
              "Name: NAICS_CODE, Length: 1959, dtype: int64"
            ]
          },
          "execution_count": 189,
          "metadata": {},
          "output_type": "execute_result"
        }
      ],
      "source": [
        "data_H1B.NAICS_CODE.value_counts(dropna = False)"
      ]
    },
    {
      "cell_type": "code",
      "execution_count": 190,
      "id": "24b19aa9",
      "metadata": {
        "id": "24b19aa9",
        "outputId": "c84271b6-ae25-4ae0-cbd1-246a48a30c1e"
      },
      "outputs": [
        {
          "data": {
            "image/png": "[encoded data removed]",
            "text/plain": [
              "<Figure size 1800x720 with 1 Axes>"
            ]
          },
          "metadata": {},
          "output_type": "display_data"
        }
      ],
      "source": [
        "countplt, ax = plt.subplots(figsize = (25,10))\n",
        "ax = data_H1B.boxplot(column = 'NAICS_CODE')"
      ]
    },
    {
      "cell_type": "code",
      "execution_count": null,
      "id": "ca1317ab",
      "metadata": {
        "id": "ca1317ab"
      },
      "outputs": [],
      "source": []
    },
    {
      "cell_type": "markdown",
      "id": "4b49bb7d",
      "metadata": {
        "id": "4b49bb7d"
      },
      "source": [
        "#### TOTAL_WORKER_POSITIONS"
      ]
    },
    {
      "cell_type": "code",
      "execution_count": 191,
      "id": "133e12d9",
      "metadata": {
        "id": "133e12d9",
        "outputId": "8822de6c-0899-43e5-8385-b8df0455a3eb"
      },
      "outputs": [
        {
          "data": {
            "text/plain": [
              "2"
            ]
          },
          "execution_count": 191,
          "metadata": {},
          "output_type": "execute_result"
        }
      ],
      "source": [
        "data_H1B.TOTAL_WORKER_POSITIONS.isnull().sum()"
      ]
    },
    {
      "cell_type": "code",
      "execution_count": 192,
      "id": "933f3286",
      "metadata": {
        "id": "933f3286"
      },
      "outputs": [],
      "source": [
        "data_H1B = data_H1B.dropna(subset = ['TOTAL_WORKER_POSITIONS'])"
      ]
    },
    {
      "cell_type": "code",
      "execution_count": 193,
      "id": "7458717a",
      "metadata": {
        "id": "7458717a",
        "outputId": "babc76d7-8881-426f-8f6e-0cfba420f841"
      },
      "outputs": [
        {
          "data": {
            "text/plain": [
              "0"
            ]
          },
          "execution_count": 193,
          "metadata": {},
          "output_type": "execute_result"
        }
      ],
      "source": [
        "data_H1B.TOTAL_WORKER_POSITIONS.isnull().sum()"
      ]
    },
    {
      "cell_type": "code",
      "execution_count": 194,
      "id": "c31f85bd",
      "metadata": {
        "id": "c31f85bd",
        "outputId": "ed274995-a910-47da-ae0d-181ebf8bf425"
      },
      "outputs": [
        {
          "data": {
            "text/plain": [
              "1.0      350839\n",
              "2.0        2925\n",
              "10.0       2205\n",
              "3.0        2147\n",
              "5.0        1755\n",
              "20.0       1052\n",
              "15.0        946\n",
              "25.0        884\n",
              "50.0        653\n",
              "4.0         497\n",
              "30.0        482\n",
              "6.0         397\n",
              "12.0        157\n",
              "8.0         136\n",
              "24.0        127\n",
              "7.0         124\n",
              "100.0        74\n",
              "40.0         48\n",
              "9.0          36\n",
              "75.0         34\n",
              "45.0         26\n",
              "11.0         22\n",
              "16.0         20\n",
              "14.0         18\n",
              "60.0         17\n",
              "35.0         15\n",
              "17.0         15\n",
              "18.0         12\n",
              "13.0         12\n",
              "32.0          9\n",
              "150.0         8\n",
              "19.0          7\n",
              "23.0          6\n",
              "34.0          6\n",
              "36.0          6\n",
              "22.0          5\n",
              "28.0          4\n",
              "200.0         4\n",
              "175.0         3\n",
              "99.0          2\n",
              "594.0         2\n",
              "300.0         2\n",
              "80.0          2\n",
              "500.0         2\n",
              "70.0          2\n",
              "90.0          2\n",
              "37.0          1\n",
              "78.0          1\n",
              "76.0          1\n",
              "65.0          1\n",
              "31.0          1\n",
              "47.0          1\n",
              "26.0          1\n",
              "43.0          1\n",
              "54.0          1\n",
              "110.0         1\n",
              "21.0          1\n",
              "Name: TOTAL_WORKER_POSITIONS, dtype: int64"
            ]
          },
          "execution_count": 194,
          "metadata": {},
          "output_type": "execute_result"
        }
      ],
      "source": [
        "data_H1B.TOTAL_WORKER_POSITIONS.value_counts()"
      ]
    },
    {
      "cell_type": "code",
      "execution_count": null,
      "id": "feaffd96",
      "metadata": {
        "id": "feaffd96"
      },
      "outputs": [],
      "source": []
    },
    {
      "cell_type": "markdown",
      "id": "7f5a1d7e",
      "metadata": {
        "id": "7f5a1d7e"
      },
      "source": [
        "### Outlier Detection"
      ]
    },
    {
      "cell_type": "code",
      "execution_count": 195,
      "id": "0ea37602",
      "metadata": {
        "id": "0ea37602",
        "outputId": "30b35b5b-ca78-4143-afb6-62375c6fb9cc"
      },
      "outputs": [
        {
          "data": {
            "image/png": "[encoded data removed]",
            "text/plain": [
              "<Figure size 720x504 with 4 Axes>"
            ]
          },
          "metadata": {},
          "output_type": "display_data"
        }
      ],
      "source": [
        "fig, ax = plt.subplots(2,3, figsize = (10,7))\n",
        "numerical_data = data_H1B[[\"TOTAL_WORKER_POSITIONS\", \"CHANGE_EMPLOYER\", \"AMENDED_PETITION\", \"NEW_CONCURRENT_EMPLOYMENT\", \"CHANGE_PREVIOUS_EMPLOYMENT\"]]\n",
        "for i,el in enumerate(list(numerical_data.columns.values)[:-1]):\n",
        "    a = numerical_data.boxplot(el, ax=ax.flatten()[i])\n",
        "\n",
        "\n",
        "fig.delaxes(ax[1,2]) \n",
        "fig.delaxes(ax[1,1])# remove empty subplot\n",
        "plt.tight_layout() \n",
        "\n",
        "plt.show()"
      ]
    },
    {
      "cell_type": "markdown",
      "id": "2d5643dc",
      "metadata": {},
      "source": [
        "Outliers Removal"
      ]
    },
    {
      "cell_type": "code",
      "execution_count": 196,
      "id": "9564eab0",
      "metadata": {},
      "outputs": [],
      "source": [
        "# def remove_outlier(col):\n",
        "#     sorted(col)\n",
        "#     Q1,Q3 = col.quantile([0.25,0.75])\n",
        "#     IQR = Q3 - Q1\n",
        "#     lr = Q1 - (1.5 * IQR)\n",
        "#     ur = Q3 + (1.5 * IQR)\n",
        "#     return lr, ur\n",
        "\n",
        "# lessVis, moreVis = remove_outlier(data_H1B['TOTAL_WORKER_POSITIONS'])\n",
        "# data_H1B['TOTAL_WORKER_POSITIONS'] = np.where(data_H1B['TOTAL_WORKER_POSITIONS']>moreVis,moreVis,data_H1B['TOTAL_WORKER_POSITIONS'])\n",
        "# data_H1B['TOTAL_WORKER_POSITIONS'] = np.where(data_H1B['TOTAL_WORKER_POSITIONS']<lessVis,lessVis,data_H1B['TOTAL_WORKER_POSITIONS'])\n"
      ]
    },
    {
      "cell_type": "code",
      "execution_count": 197,
      "id": "ee66bbf1",
      "metadata": {},
      "outputs": [],
      "source": [
        "# def remove_outlier(col):\n",
        "#     sorted(col)\n",
        "#     Q1,Q3 = col.quantile([0.25,0.75])\n",
        "#     IQR = Q3 - Q1\n",
        "#     lr = Q1 - (1.5 * IQR)\n",
        "#     ur = Q3 + (1.5 * IQR)\n",
        "#     return lr, ur\n",
        "\n",
        "# lessVis, moreVis = remove_outlier(data_H1B['CHANGE_PREVIOUS_EMPLOYMENT'])\n",
        "# data_H1B['CHANGE_PREVIOUS_EMPLOYMENT'] = np.where(data_H1B['CHANGE_PREVIOUS_EMPLOYMENT']>moreVis,moreVis,data_H1B['CHANGE_PREVIOUS_EMPLOYMENT'])\n",
        "# data_H1B['CHANGE_PREVIOUS_EMPLOYMENT'] = np.where(data_H1B['CHANGE_PREVIOUS_EMPLOYMENT']<lessVis,lessVis,data_H1B['CHANGE_PREVIOUS_EMPLOYMENT'])\n"
      ]
    },
    {
      "cell_type": "code",
      "execution_count": 198,
      "id": "ac354532",
      "metadata": {
        "id": "ac354532",
        "outputId": "95565955-109b-4f09-c859-dcd32392c83a"
      },
      "outputs": [],
      "source": [
        "# countplt, ax = plt.subplots(figsize = (5,5))\n",
        "# ax = numerical_data.boxplot(column = 'NAICS_CODE')"
      ]
    },
    {
      "cell_type": "code",
      "execution_count": 199,
      "id": "2ced9498",
      "metadata": {
        "id": "2ced9498"
      },
      "outputs": [
        {
          "data": {
            "text/plain": [
              "'\\nThere are a plenty of outliers in each field\\n\\n\\n\\n\\nQ1 = np.percentile(Numerical_Data[\\'TOTAL_WORKER_POSITIONS\\'], 25, interpolation = \\'midpoint\\')\\n \\nQ3 = np.percentile(data_H1B[\\'AMENDED_PETITION\\'], 75, interpolation = \\'midpoint\\')\\nIQR = Q3 - Q1\\n\\nprint(\"Old Shape: \", data_H1B.shape)\\n\\nupper = np.where(data_H1B[\\'AMENDED_PETITION\\'] >= (Q3+1.5*IQR))\\nlower = np.where(data_H1B[\\'AMENDED_PETITION\\'] <= (Q1-1.5*IQR))\\n\\nprint(upper)\\n\\ndata_H1B.drop(upper[0], inplace = True)\\ndata_H1B.drop(lower[0], inplace = True)\\n \\nprint(\"New Shape: \", data_H1B.shape)\\n\\n'"
            ]
          },
          "execution_count": 199,
          "metadata": {},
          "output_type": "execute_result"
        }
      ],
      "source": [
        "'''\n",
        "There are a plenty of outliers in each field\n",
        "\n",
        "\n",
        "\n",
        "\n",
        "Q1 = np.percentile(Numerical_Data['TOTAL_WORKER_POSITIONS'], 25, interpolation = 'midpoint')\n",
        " \n",
        "Q3 = np.percentile(data_H1B['AMENDED_PETITION'], 75, interpolation = 'midpoint')\n",
        "IQR = Q3 - Q1\n",
        "\n",
        "print(\"Old Shape: \", data_H1B.shape)\n",
        "\n",
        "upper = np.where(data_H1B['AMENDED_PETITION'] >= (Q3+1.5*IQR))\n",
        "lower = np.where(data_H1B['AMENDED_PETITION'] <= (Q1-1.5*IQR))\n",
        "\n",
        "print(upper)\n",
        "\n",
        "data_H1B.drop(upper[0], inplace = True)\n",
        "data_H1B.drop(lower[0], inplace = True)\n",
        " \n",
        "print(\"New Shape: \", data_H1B.shape)\n",
        "\n",
        "'''"
      ]
    },
    {
      "cell_type": "code",
      "execution_count": 200,
      "id": "fef19844",
      "metadata": {
        "id": "fef19844",
        "outputId": "9179f3f9-5a4e-4403-f075-9ebc69550f87"
      },
      "outputs": [
        {
          "data": {
            "text/plain": [
              "CASE_STATUS                              0\n",
              "VISA_CLASS                               0\n",
              "EMPLOYER_NAME                            0\n",
              "EMPLOYER_COUNTRY                         0\n",
              "AGENT_REPRESENTING_EMPLOYER              0\n",
              "JOB_TITLE                                0\n",
              "SOC_TITLE                                0\n",
              "SOC_CODE                                 0\n",
              "NAICS_CODE                               0\n",
              "CONTINUED_EMPLOYMENT                     0\n",
              "CHANGE_PREVIOUS_EMPLOYMENT               0\n",
              "NEW_CONCURRENT_EMPLOYMENT                1\n",
              "CHANGE_EMPLOYER                          0\n",
              "AMENDED_PETITION                         0\n",
              "H-1B_DEPENDENT                           0\n",
              "WILLFUL_VIOLATOR                         0\n",
              "AGENT_ATTORNEY_LAW_FIRM_BUSINESS_NAME    0\n",
              "SUPPORT_H1B                              0\n",
              "TOTAL_WORKER_POSITIONS                   0\n",
              "dtype: int64"
            ]
          },
          "execution_count": 200,
          "metadata": {},
          "output_type": "execute_result"
        }
      ],
      "source": [
        "data_H1B.isnull().sum()"
      ]
    },
    {
      "cell_type": "code",
      "execution_count": 201,
      "id": "bdf228d6",
      "metadata": {
        "id": "bdf228d6",
        "outputId": "39c20a8a-5f03-4b14-bb13-6fda3cedc1d0"
      },
      "outputs": [
        {
          "data": {
            "text/html": [
              "<div>\n",
              "<style scoped>\n",
              "    .dataframe tbody tr th:only-of-type {\n",
              "        vertical-align: middle;\n",
              "    }\n",
              "\n",
              "    .dataframe tbody tr th {\n",
              "        vertical-align: top;\n",
              "    }\n",
              "\n",
              "    .dataframe thead th {\n",
              "        text-align: right;\n",
              "    }\n",
              "</style>\n",
              "<table border=\"1\" class=\"dataframe\">\n",
              "  <thead>\n",
              "    <tr style=\"text-align: right;\">\n",
              "      <th></th>\n",
              "      <th>CASE_STATUS</th>\n",
              "      <th>VISA_CLASS</th>\n",
              "      <th>EMPLOYER_NAME</th>\n",
              "      <th>EMPLOYER_COUNTRY</th>\n",
              "      <th>AGENT_REPRESENTING_EMPLOYER</th>\n",
              "      <th>JOB_TITLE</th>\n",
              "      <th>SOC_TITLE</th>\n",
              "      <th>SOC_CODE</th>\n",
              "      <th>NAICS_CODE</th>\n",
              "      <th>CHANGE_PREVIOUS_EMPLOYMENT</th>\n",
              "      <th>NEW_CONCURRENT_EMPLOYMENT</th>\n",
              "      <th>CHANGE_EMPLOYER</th>\n",
              "      <th>AMENDED_PETITION</th>\n",
              "      <th>H-1B_DEPENDENT</th>\n",
              "      <th>WILLFUL_VIOLATOR</th>\n",
              "      <th>AGENT_ATTORNEY_LAW_FIRM_BUSINESS_NAME</th>\n",
              "      <th>SUPPORT_H1B</th>\n",
              "      <th>TOTAL_WORKER_POSITIONS</th>\n",
              "    </tr>\n",
              "  </thead>\n",
              "  <tbody>\n",
              "    <tr>\n",
              "      <th>count</th>\n",
              "      <td>365758.000000</td>\n",
              "      <td>365758.0</td>\n",
              "      <td>365758.000000</td>\n",
              "      <td>365758.000000</td>\n",
              "      <td>365758.000000</td>\n",
              "      <td>365758.000000</td>\n",
              "      <td>365758.000000</td>\n",
              "      <td>365758.000000</td>\n",
              "      <td>365758.000000</td>\n",
              "      <td>365758.000000</td>\n",
              "      <td>365757.000000</td>\n",
              "      <td>365758.000000</td>\n",
              "      <td>365758.000000</td>\n",
              "      <td>365758.000000</td>\n",
              "      <td>365758.000000</td>\n",
              "      <td>365758.000000</td>\n",
              "      <td>365758.000000</td>\n",
              "      <td>365758.000000</td>\n",
              "    </tr>\n",
              "    <tr>\n",
              "      <th>mean</th>\n",
              "      <td>0.248774</td>\n",
              "      <td>0.0</td>\n",
              "      <td>33129.383218</td>\n",
              "      <td>6.999691</td>\n",
              "      <td>0.783313</td>\n",
              "      <td>55326.304860</td>\n",
              "      <td>495.949262</td>\n",
              "      <td>123.807036</td>\n",
              "      <td>451437.288803</td>\n",
              "      <td>0.119306</td>\n",
              "      <td>0.008916</td>\n",
              "      <td>0.247306</td>\n",
              "      <td>0.186396</td>\n",
              "      <td>0.234092</td>\n",
              "      <td>0.000725</td>\n",
              "      <td>2515.392475</td>\n",
              "      <td>0.996131</td>\n",
              "      <td>1.459388</td>\n",
              "    </tr>\n",
              "    <tr>\n",
              "      <th>std</th>\n",
              "      <td>0.683679</td>\n",
              "      <td>0.0</td>\n",
              "      <td>19190.485990</td>\n",
              "      <td>0.036263</td>\n",
              "      <td>0.411988</td>\n",
              "      <td>31534.508002</td>\n",
              "      <td>256.729881</td>\n",
              "      <td>80.141903</td>\n",
              "      <td>188762.678341</td>\n",
              "      <td>1.028604</td>\n",
              "      <td>0.283053</td>\n",
              "      <td>0.947595</td>\n",
              "      <td>0.789611</td>\n",
              "      <td>0.423431</td>\n",
              "      <td>0.026907</td>\n",
              "      <td>1687.424708</td>\n",
              "      <td>0.062078</td>\n",
              "      <td>4.172246</td>\n",
              "    </tr>\n",
              "    <tr>\n",
              "      <th>min</th>\n",
              "      <td>0.000000</td>\n",
              "      <td>0.0</td>\n",
              "      <td>0.000000</td>\n",
              "      <td>0.000000</td>\n",
              "      <td>0.000000</td>\n",
              "      <td>0.000000</td>\n",
              "      <td>0.000000</td>\n",
              "      <td>0.000000</td>\n",
              "      <td>31.000000</td>\n",
              "      <td>0.000000</td>\n",
              "      <td>0.000000</td>\n",
              "      <td>0.000000</td>\n",
              "      <td>0.000000</td>\n",
              "      <td>0.000000</td>\n",
              "      <td>0.000000</td>\n",
              "      <td>0.000000</td>\n",
              "      <td>0.000000</td>\n",
              "      <td>1.000000</td>\n",
              "    </tr>\n",
              "    <tr>\n",
              "      <th>25%</th>\n",
              "      <td>0.000000</td>\n",
              "      <td>0.0</td>\n",
              "      <td>16755.000000</td>\n",
              "      <td>7.000000</td>\n",
              "      <td>1.000000</td>\n",
              "      <td>26955.000000</td>\n",
              "      <td>207.000000</td>\n",
              "      <td>95.000000</td>\n",
              "      <td>442299.000000</td>\n",
              "      <td>0.000000</td>\n",
              "      <td>0.000000</td>\n",
              "      <td>0.000000</td>\n",
              "      <td>0.000000</td>\n",
              "      <td>0.000000</td>\n",
              "      <td>0.000000</td>\n",
              "      <td>1520.000000</td>\n",
              "      <td>1.000000</td>\n",
              "      <td>1.000000</td>\n",
              "    </tr>\n",
              "    <tr>\n",
              "      <th>50%</th>\n",
              "      <td>0.000000</td>\n",
              "      <td>0.0</td>\n",
              "      <td>31864.500000</td>\n",
              "      <td>7.000000</td>\n",
              "      <td>1.000000</td>\n",
              "      <td>57991.500000</td>\n",
              "      <td>526.000000</td>\n",
              "      <td>95.000000</td>\n",
              "      <td>541511.000000</td>\n",
              "      <td>0.000000</td>\n",
              "      <td>0.000000</td>\n",
              "      <td>0.000000</td>\n",
              "      <td>0.000000</td>\n",
              "      <td>0.000000</td>\n",
              "      <td>0.000000</td>\n",
              "      <td>1520.000000</td>\n",
              "      <td>1.000000</td>\n",
              "      <td>1.000000</td>\n",
              "    </tr>\n",
              "    <tr>\n",
              "      <th>75%</th>\n",
              "      <td>0.000000</td>\n",
              "      <td>0.0</td>\n",
              "      <td>50299.000000</td>\n",
              "      <td>7.000000</td>\n",
              "      <td>1.000000</td>\n",
              "      <td>82684.000000</td>\n",
              "      <td>752.000000</td>\n",
              "      <td>134.000000</td>\n",
              "      <td>541512.000000</td>\n",
              "      <td>0.000000</td>\n",
              "      <td>0.000000</td>\n",
              "      <td>0.000000</td>\n",
              "      <td>0.000000</td>\n",
              "      <td>0.000000</td>\n",
              "      <td>0.000000</td>\n",
              "      <td>3980.000000</td>\n",
              "      <td>1.000000</td>\n",
              "      <td>1.000000</td>\n",
              "    </tr>\n",
              "    <tr>\n",
              "      <th>max</th>\n",
              "      <td>3.000000</td>\n",
              "      <td>0.0</td>\n",
              "      <td>65727.000000</td>\n",
              "      <td>7.000000</td>\n",
              "      <td>1.000000</td>\n",
              "      <td>109610.000000</td>\n",
              "      <td>858.000000</td>\n",
              "      <td>526.000000</td>\n",
              "      <td>928120.000000</td>\n",
              "      <td>338.000000</td>\n",
              "      <td>99.000000</td>\n",
              "      <td>99.000000</td>\n",
              "      <td>99.000000</td>\n",
              "      <td>1.000000</td>\n",
              "      <td>1.000000</td>\n",
              "      <td>6465.000000</td>\n",
              "      <td>1.000000</td>\n",
              "      <td>594.000000</td>\n",
              "    </tr>\n",
              "  </tbody>\n",
              "</table>\n",
              "</div>"
            ],
            "text/plain": [
              "         CASE_STATUS  VISA_CLASS  EMPLOYER_NAME  EMPLOYER_COUNTRY  \\\n",
              "count  365758.000000    365758.0  365758.000000     365758.000000   \n",
              "mean        0.248774         0.0   33129.383218          6.999691   \n",
              "std         0.683679         0.0   19190.485990          0.036263   \n",
              "min         0.000000         0.0       0.000000          0.000000   \n",
              "25%         0.000000         0.0   16755.000000          7.000000   \n",
              "50%         0.000000         0.0   31864.500000          7.000000   \n",
              "75%         0.000000         0.0   50299.000000          7.000000   \n",
              "max         3.000000         0.0   65727.000000          7.000000   \n",
              "\n",
              "       AGENT_REPRESENTING_EMPLOYER      JOB_TITLE      SOC_TITLE  \\\n",
              "count                365758.000000  365758.000000  365758.000000   \n",
              "mean                      0.783313   55326.304860     495.949262   \n",
              "std                       0.411988   31534.508002     256.729881   \n",
              "min                       0.000000       0.000000       0.000000   \n",
              "25%                       1.000000   26955.000000     207.000000   \n",
              "50%                       1.000000   57991.500000     526.000000   \n",
              "75%                       1.000000   82684.000000     752.000000   \n",
              "max                       1.000000  109610.000000     858.000000   \n",
              "\n",
              "            SOC_CODE     NAICS_CODE  CHANGE_PREVIOUS_EMPLOYMENT  \\\n",
              "count  365758.000000  365758.000000               365758.000000   \n",
              "mean      123.807036  451437.288803                    0.119306   \n",
              "std        80.141903  188762.678341                    1.028604   \n",
              "min         0.000000      31.000000                    0.000000   \n",
              "25%        95.000000  442299.000000                    0.000000   \n",
              "50%        95.000000  541511.000000                    0.000000   \n",
              "75%       134.000000  541512.000000                    0.000000   \n",
              "max       526.000000  928120.000000                  338.000000   \n",
              "\n",
              "       NEW_CONCURRENT_EMPLOYMENT  CHANGE_EMPLOYER  AMENDED_PETITION  \\\n",
              "count              365757.000000    365758.000000     365758.000000   \n",
              "mean                    0.008916         0.247306          0.186396   \n",
              "std                     0.283053         0.947595          0.789611   \n",
              "min                     0.000000         0.000000          0.000000   \n",
              "25%                     0.000000         0.000000          0.000000   \n",
              "50%                     0.000000         0.000000          0.000000   \n",
              "75%                     0.000000         0.000000          0.000000   \n",
              "max                    99.000000        99.000000         99.000000   \n",
              "\n",
              "       H-1B_DEPENDENT  WILLFUL_VIOLATOR  \\\n",
              "count   365758.000000     365758.000000   \n",
              "mean         0.234092          0.000725   \n",
              "std          0.423431          0.026907   \n",
              "min          0.000000          0.000000   \n",
              "25%          0.000000          0.000000   \n",
              "50%          0.000000          0.000000   \n",
              "75%          0.000000          0.000000   \n",
              "max          1.000000          1.000000   \n",
              "\n",
              "       AGENT_ATTORNEY_LAW_FIRM_BUSINESS_NAME    SUPPORT_H1B  \\\n",
              "count                          365758.000000  365758.000000   \n",
              "mean                             2515.392475       0.996131   \n",
              "std                              1687.424708       0.062078   \n",
              "min                                 0.000000       0.000000   \n",
              "25%                              1520.000000       1.000000   \n",
              "50%                              1520.000000       1.000000   \n",
              "75%                              3980.000000       1.000000   \n",
              "max                              6465.000000       1.000000   \n",
              "\n",
              "       TOTAL_WORKER_POSITIONS  \n",
              "count           365758.000000  \n",
              "mean                 1.459388  \n",
              "std                  4.172246  \n",
              "min                  1.000000  \n",
              "25%                  1.000000  \n",
              "50%                  1.000000  \n",
              "75%                  1.000000  \n",
              "max                594.000000  "
            ]
          },
          "execution_count": 201,
          "metadata": {},
          "output_type": "execute_result"
        }
      ],
      "source": [
        "data_H1B\n",
        "data_H1B.describe()"
      ]
    },
    {
      "cell_type": "code",
      "execution_count": 202,
      "id": "69e29428",
      "metadata": {
        "id": "69e29428",
        "outputId": "c30cc1d3-87ea-491d-9da5-e22df8a7c55c"
      },
      "outputs": [
        {
          "data": {
            "text/plain": [
              "CASE_STATUS                              0\n",
              "VISA_CLASS                               0\n",
              "EMPLOYER_NAME                            0\n",
              "EMPLOYER_COUNTRY                         0\n",
              "AGENT_REPRESENTING_EMPLOYER              0\n",
              "JOB_TITLE                                0\n",
              "SOC_TITLE                                0\n",
              "SOC_CODE                                 0\n",
              "NAICS_CODE                               0\n",
              "CONTINUED_EMPLOYMENT                     0\n",
              "CHANGE_PREVIOUS_EMPLOYMENT               0\n",
              "NEW_CONCURRENT_EMPLOYMENT                1\n",
              "CHANGE_EMPLOYER                          0\n",
              "AMENDED_PETITION                         0\n",
              "H-1B_DEPENDENT                           0\n",
              "WILLFUL_VIOLATOR                         0\n",
              "AGENT_ATTORNEY_LAW_FIRM_BUSINESS_NAME    0\n",
              "SUPPORT_H1B                              0\n",
              "TOTAL_WORKER_POSITIONS                   0\n",
              "dtype: int64"
            ]
          },
          "execution_count": 202,
          "metadata": {},
          "output_type": "execute_result"
        }
      ],
      "source": [
        "data_H1B.isnull().sum()"
      ]
    },
    {
      "cell_type": "code",
      "execution_count": 203,
      "id": "7cd2ba8b",
      "metadata": {
        "id": "7cd2ba8b"
      },
      "outputs": [],
      "source": [
        "data_H1B = data_H1B.dropna(subset = ['NEW_CONCURRENT_EMPLOYMENT'])"
      ]
    },
    {
      "cell_type": "code",
      "execution_count": 204,
      "id": "7116f0e0",
      "metadata": {
        "id": "7116f0e0",
        "outputId": "27c147be-b229-42bb-ae95-4937bdfb4d54"
      },
      "outputs": [
        {
          "data": {
            "text/plain": [
              "(365757, 19)"
            ]
          },
          "execution_count": 204,
          "metadata": {},
          "output_type": "execute_result"
        }
      ],
      "source": [
        "data_H1B.shape"
      ]
    },
    {
      "cell_type": "code",
      "execution_count": null,
      "id": "4604b8f5",
      "metadata": {
        "id": "4604b8f5"
      },
      "outputs": [],
      "source": []
    },
    {
      "cell_type": "markdown",
      "id": "de550ac1",
      "metadata": {
        "id": "de550ac1"
      },
      "source": [
        "### PLOTTING THE HEAT MAP FOR THE NUMERICAL VARIABLES"
      ]
    },
    {
      "cell_type": "code",
      "execution_count": 205,
      "id": "74c08cf6",
      "metadata": {
        "id": "74c08cf6",
        "outputId": "c6afc219-78ec-4280-f691-eae2cf0bd2d2"
      },
      "outputs": [
        {
          "data": {
            "image/png": "[encoded data removed]",
            "text/plain": [
              "<Figure size 864x720 with 2 Axes>"
            ]
          },
          "metadata": {},
          "output_type": "display_data"
        }
      ],
      "source": [
        "corelation = numerical_data.corr()\n",
        "plt.figure(figsize = (12, 10))\n",
        "Corr_mat = sns.heatmap(corelation,xticklabels=corelation.columns,yticklabels=corelation.columns,annot=True)\n",
        "\n",
        "plt.title(\"Correlation Matrix\")\n",
        "plt.show()"
      ]
    },
    {
      "cell_type": "markdown",
      "id": "749fade9",
      "metadata": {
        "id": "749fade9"
      },
      "source": [
        "### Bivariate Analysis\n"
      ]
    },
    {
      "cell_type": "code",
      "execution_count": 206,
      "id": "f6bc64bd",
      "metadata": {
        "id": "f6bc64bd",
        "outputId": "3d746315-e3d0-4738-8fe8-24bc0f2cabf8"
      },
      "outputs": [
        {
          "data": {
            "text/plain": [
              "7    365728\n",
              "3        19\n",
              "5         3\n",
              "4         2\n",
              "1         2\n",
              "6         1\n",
              "0         1\n",
              "2         1\n",
              "Name: EMPLOYER_COUNTRY, dtype: int64"
            ]
          },
          "execution_count": 206,
          "metadata": {},
          "output_type": "execute_result"
        }
      ],
      "source": [
        "data_H1B.EMPLOYER_COUNTRY.value_counts()"
      ]
    },
    {
      "cell_type": "code",
      "execution_count": 207,
      "id": "c1458008",
      "metadata": {
        "id": "c1458008",
        "outputId": "7761729d-ca84-4df2-ca88-bb209b003e8d"
      },
      "outputs": [
        {
          "data": {
            "image/png": "[encoded data removed]",
            "text/plain": [
              "<Figure size 1440x720 with 1 Axes>"
            ]
          },
          "metadata": {},
          "output_type": "display_data"
        }
      ],
      "source": [
        "sns.set_style('whitegrid')\n",
        "countplt, ax = plt.subplots(figsize = (20,10))\n",
        "ax=sns.countplot(x = data_H1B.EMPLOYER_COUNTRY,hue = data_H1B['CASE_STATUS'],palette = 'YlOrBr')\n",
        "ax.set_title(\"Countries VS Case Status\",fontsize = 15)\n",
        "\n",
        "for p in ax.patches:\n",
        "        ax.annotate(f'{round(p.get_height()/len(data_H1B)*100,2)} %', xy=(p.get_x() + p.get_width() / 2,  \n",
        "            p.get_height()), ha='center',  va='center',size=12, xytext=(0, 8),textcoords='offset points')\n",
        "plt.show()"
      ]
    },
    {
      "cell_type": "markdown",
      "id": "a80f48bf",
      "metadata": {
        "id": "a80f48bf"
      },
      "source": [
        "### Since Random Forest Classifier is not sensitive to outliers and is not affected by normalisation, I will be utilizing the dataset as it is."
      ]
    },
    {
      "cell_type": "markdown",
      "id": "c744c63a",
      "metadata": {
        "id": "c744c63a"
      },
      "source": [
        "### Splitting the dataset"
      ]
    },
    {
      "cell_type": "code",
      "execution_count": 208,
      "id": "119f99a3",
      "metadata": {
        "id": "119f99a3",
        "outputId": "65484706-5ed6-4a6b-b86a-be295d0dc787"
      },
      "outputs": [
        {
          "data": {
            "text/html": [
              "<div>\n",
              "<style scoped>\n",
              "    .dataframe tbody tr th:only-of-type {\n",
              "        vertical-align: middle;\n",
              "    }\n",
              "\n",
              "    .dataframe tbody tr th {\n",
              "        vertical-align: top;\n",
              "    }\n",
              "\n",
              "    .dataframe thead th {\n",
              "        text-align: right;\n",
              "    }\n",
              "</style>\n",
              "<table border=\"1\" class=\"dataframe\">\n",
              "  <thead>\n",
              "    <tr style=\"text-align: right;\">\n",
              "      <th></th>\n",
              "      <th>CASE_STATUS</th>\n",
              "      <th>VISA_CLASS</th>\n",
              "      <th>EMPLOYER_NAME</th>\n",
              "      <th>EMPLOYER_COUNTRY</th>\n",
              "      <th>AGENT_REPRESENTING_EMPLOYER</th>\n",
              "      <th>JOB_TITLE</th>\n",
              "      <th>SOC_TITLE</th>\n",
              "      <th>SOC_CODE</th>\n",
              "      <th>NAICS_CODE</th>\n",
              "      <th>CONTINUED_EMPLOYMENT</th>\n",
              "      <th>CHANGE_PREVIOUS_EMPLOYMENT</th>\n",
              "      <th>NEW_CONCURRENT_EMPLOYMENT</th>\n",
              "      <th>CHANGE_EMPLOYER</th>\n",
              "      <th>AMENDED_PETITION</th>\n",
              "      <th>H-1B_DEPENDENT</th>\n",
              "      <th>WILLFUL_VIOLATOR</th>\n",
              "      <th>AGENT_ATTORNEY_LAW_FIRM_BUSINESS_NAME</th>\n",
              "      <th>SUPPORT_H1B</th>\n",
              "      <th>TOTAL_WORKER_POSITIONS</th>\n",
              "    </tr>\n",
              "  </thead>\n",
              "  <tbody>\n",
              "    <tr>\n",
              "      <th>0</th>\n",
              "      <td>3</td>\n",
              "      <td>0</td>\n",
              "      <td>47135</td>\n",
              "      <td>7</td>\n",
              "      <td>0</td>\n",
              "      <td>7659</td>\n",
              "      <td>14</td>\n",
              "      <td>2</td>\n",
              "      <td>541810.0</td>\n",
              "      <td>1</td>\n",
              "      <td>0</td>\n",
              "      <td>0.0</td>\n",
              "      <td>0</td>\n",
              "      <td>0</td>\n",
              "      <td>0</td>\n",
              "      <td>0</td>\n",
              "      <td>1520</td>\n",
              "      <td>1</td>\n",
              "      <td>1.0</td>\n",
              "    </tr>\n",
              "    <tr>\n",
              "      <th>5</th>\n",
              "      <td>3</td>\n",
              "      <td>0</td>\n",
              "      <td>36533</td>\n",
              "      <td>7</td>\n",
              "      <td>0</td>\n",
              "      <td>33179</td>\n",
              "      <td>14</td>\n",
              "      <td>2</td>\n",
              "      <td>541810.0</td>\n",
              "      <td>1</td>\n",
              "      <td>0</td>\n",
              "      <td>0.0</td>\n",
              "      <td>0</td>\n",
              "      <td>0</td>\n",
              "      <td>0</td>\n",
              "      <td>0</td>\n",
              "      <td>1520</td>\n",
              "      <td>1</td>\n",
              "      <td>1.0</td>\n",
              "    </tr>\n",
              "    <tr>\n",
              "      <th>6</th>\n",
              "      <td>3</td>\n",
              "      <td>0</td>\n",
              "      <td>37474</td>\n",
              "      <td>7</td>\n",
              "      <td>1</td>\n",
              "      <td>24151</td>\n",
              "      <td>14</td>\n",
              "      <td>2</td>\n",
              "      <td>454111.0</td>\n",
              "      <td>0</td>\n",
              "      <td>1</td>\n",
              "      <td>0.0</td>\n",
              "      <td>0</td>\n",
              "      <td>0</td>\n",
              "      <td>0</td>\n",
              "      <td>0</td>\n",
              "      <td>1517</td>\n",
              "      <td>1</td>\n",
              "      <td>1.0</td>\n",
              "    </tr>\n",
              "    <tr>\n",
              "      <th>7</th>\n",
              "      <td>3</td>\n",
              "      <td>0</td>\n",
              "      <td>32327</td>\n",
              "      <td>7</td>\n",
              "      <td>1</td>\n",
              "      <td>34565</td>\n",
              "      <td>14</td>\n",
              "      <td>2</td>\n",
              "      <td>541990.0</td>\n",
              "      <td>1</td>\n",
              "      <td>0</td>\n",
              "      <td>0.0</td>\n",
              "      <td>0</td>\n",
              "      <td>0</td>\n",
              "      <td>0</td>\n",
              "      <td>0</td>\n",
              "      <td>1103</td>\n",
              "      <td>1</td>\n",
              "      <td>1.0</td>\n",
              "    </tr>\n",
              "    <tr>\n",
              "      <th>8</th>\n",
              "      <td>3</td>\n",
              "      <td>0</td>\n",
              "      <td>55256</td>\n",
              "      <td>7</td>\n",
              "      <td>1</td>\n",
              "      <td>405</td>\n",
              "      <td>14</td>\n",
              "      <td>2</td>\n",
              "      <td>541820.0</td>\n",
              "      <td>1</td>\n",
              "      <td>0</td>\n",
              "      <td>0.0</td>\n",
              "      <td>0</td>\n",
              "      <td>0</td>\n",
              "      <td>0</td>\n",
              "      <td>0</td>\n",
              "      <td>5965</td>\n",
              "      <td>1</td>\n",
              "      <td>1.0</td>\n",
              "    </tr>\n",
              "    <tr>\n",
              "      <th>...</th>\n",
              "      <td>...</td>\n",
              "      <td>...</td>\n",
              "      <td>...</td>\n",
              "      <td>...</td>\n",
              "      <td>...</td>\n",
              "      <td>...</td>\n",
              "      <td>...</td>\n",
              "      <td>...</td>\n",
              "      <td>...</td>\n",
              "      <td>...</td>\n",
              "      <td>...</td>\n",
              "      <td>...</td>\n",
              "      <td>...</td>\n",
              "      <td>...</td>\n",
              "      <td>...</td>\n",
              "      <td>...</td>\n",
              "      <td>...</td>\n",
              "      <td>...</td>\n",
              "      <td>...</td>\n",
              "    </tr>\n",
              "    <tr>\n",
              "      <th>664605</th>\n",
              "      <td>0</td>\n",
              "      <td>0</td>\n",
              "      <td>29837</td>\n",
              "      <td>7</td>\n",
              "      <td>1</td>\n",
              "      <td>37346</td>\n",
              "      <td>836</td>\n",
              "      <td>524</td>\n",
              "      <td>541380.0</td>\n",
              "      <td>0</td>\n",
              "      <td>0</td>\n",
              "      <td>0.0</td>\n",
              "      <td>0</td>\n",
              "      <td>1</td>\n",
              "      <td>0</td>\n",
              "      <td>0</td>\n",
              "      <td>1491</td>\n",
              "      <td>1</td>\n",
              "      <td>1.0</td>\n",
              "    </tr>\n",
              "    <tr>\n",
              "      <th>664608</th>\n",
              "      <td>0</td>\n",
              "      <td>0</td>\n",
              "      <td>29837</td>\n",
              "      <td>7</td>\n",
              "      <td>1</td>\n",
              "      <td>37350</td>\n",
              "      <td>836</td>\n",
              "      <td>524</td>\n",
              "      <td>541380.0</td>\n",
              "      <td>1</td>\n",
              "      <td>0</td>\n",
              "      <td>0.0</td>\n",
              "      <td>0</td>\n",
              "      <td>0</td>\n",
              "      <td>0</td>\n",
              "      <td>0</td>\n",
              "      <td>1491</td>\n",
              "      <td>1</td>\n",
              "      <td>1.0</td>\n",
              "    </tr>\n",
              "    <tr>\n",
              "      <th>664609</th>\n",
              "      <td>2</td>\n",
              "      <td>0</td>\n",
              "      <td>45221</td>\n",
              "      <td>7</td>\n",
              "      <td>0</td>\n",
              "      <td>18426</td>\n",
              "      <td>230</td>\n",
              "      <td>525</td>\n",
              "      <td>488320.0</td>\n",
              "      <td>0</td>\n",
              "      <td>0</td>\n",
              "      <td>0.0</td>\n",
              "      <td>0</td>\n",
              "      <td>0</td>\n",
              "      <td>0</td>\n",
              "      <td>0</td>\n",
              "      <td>1520</td>\n",
              "      <td>1</td>\n",
              "      <td>6.0</td>\n",
              "    </tr>\n",
              "    <tr>\n",
              "      <th>664610</th>\n",
              "      <td>0</td>\n",
              "      <td>0</td>\n",
              "      <td>45221</td>\n",
              "      <td>7</td>\n",
              "      <td>0</td>\n",
              "      <td>18426</td>\n",
              "      <td>230</td>\n",
              "      <td>525</td>\n",
              "      <td>488320.0</td>\n",
              "      <td>0</td>\n",
              "      <td>0</td>\n",
              "      <td>0.0</td>\n",
              "      <td>0</td>\n",
              "      <td>0</td>\n",
              "      <td>0</td>\n",
              "      <td>0</td>\n",
              "      <td>1520</td>\n",
              "      <td>1</td>\n",
              "      <td>6.0</td>\n",
              "    </tr>\n",
              "    <tr>\n",
              "      <th>664611</th>\n",
              "      <td>0</td>\n",
              "      <td>0</td>\n",
              "      <td>3366</td>\n",
              "      <td>7</td>\n",
              "      <td>1</td>\n",
              "      <td>23749</td>\n",
              "      <td>1</td>\n",
              "      <td>526</td>\n",
              "      <td>524113.0</td>\n",
              "      <td>0</td>\n",
              "      <td>0</td>\n",
              "      <td>0.0</td>\n",
              "      <td>1</td>\n",
              "      <td>0</td>\n",
              "      <td>0</td>\n",
              "      <td>0</td>\n",
              "      <td>4281</td>\n",
              "      <td>1</td>\n",
              "      <td>1.0</td>\n",
              "    </tr>\n",
              "  </tbody>\n",
              "</table>\n",
              "<p>365757 rows × 19 columns</p>\n",
              "</div>"
            ],
            "text/plain": [
              "        CASE_STATUS  VISA_CLASS  EMPLOYER_NAME  EMPLOYER_COUNTRY  \\\n",
              "0                 3           0          47135                 7   \n",
              "5                 3           0          36533                 7   \n",
              "6                 3           0          37474                 7   \n",
              "7                 3           0          32327                 7   \n",
              "8                 3           0          55256                 7   \n",
              "...             ...         ...            ...               ...   \n",
              "664605            0           0          29837                 7   \n",
              "664608            0           0          29837                 7   \n",
              "664609            2           0          45221                 7   \n",
              "664610            0           0          45221                 7   \n",
              "664611            0           0           3366                 7   \n",
              "\n",
              "        AGENT_REPRESENTING_EMPLOYER  JOB_TITLE  SOC_TITLE  SOC_CODE  \\\n",
              "0                                 0       7659         14         2   \n",
              "5                                 0      33179         14         2   \n",
              "6                                 1      24151         14         2   \n",
              "7                                 1      34565         14         2   \n",
              "8                                 1        405         14         2   \n",
              "...                             ...        ...        ...       ...   \n",
              "664605                            1      37346        836       524   \n",
              "664608                            1      37350        836       524   \n",
              "664609                            0      18426        230       525   \n",
              "664610                            0      18426        230       525   \n",
              "664611                            1      23749          1       526   \n",
              "\n",
              "        NAICS_CODE CONTINUED_EMPLOYMENT  CHANGE_PREVIOUS_EMPLOYMENT  \\\n",
              "0         541810.0                    1                           0   \n",
              "5         541810.0                    1                           0   \n",
              "6         454111.0                    0                           1   \n",
              "7         541990.0                    1                           0   \n",
              "8         541820.0                    1                           0   \n",
              "...            ...                  ...                         ...   \n",
              "664605    541380.0                    0                           0   \n",
              "664608    541380.0                    1                           0   \n",
              "664609    488320.0                    0                           0   \n",
              "664610    488320.0                    0                           0   \n",
              "664611    524113.0                    0                           0   \n",
              "\n",
              "        NEW_CONCURRENT_EMPLOYMENT  CHANGE_EMPLOYER  AMENDED_PETITION  \\\n",
              "0                             0.0                0                 0   \n",
              "5                             0.0                0                 0   \n",
              "6                             0.0                0                 0   \n",
              "7                             0.0                0                 0   \n",
              "8                             0.0                0                 0   \n",
              "...                           ...              ...               ...   \n",
              "664605                        0.0                0                 1   \n",
              "664608                        0.0                0                 0   \n",
              "664609                        0.0                0                 0   \n",
              "664610                        0.0                0                 0   \n",
              "664611                        0.0                1                 0   \n",
              "\n",
              "        H-1B_DEPENDENT  WILLFUL_VIOLATOR  \\\n",
              "0                    0                 0   \n",
              "5                    0                 0   \n",
              "6                    0                 0   \n",
              "7                    0                 0   \n",
              "8                    0                 0   \n",
              "...                ...               ...   \n",
              "664605               0                 0   \n",
              "664608               0                 0   \n",
              "664609               0                 0   \n",
              "664610               0                 0   \n",
              "664611               0                 0   \n",
              "\n",
              "        AGENT_ATTORNEY_LAW_FIRM_BUSINESS_NAME  SUPPORT_H1B  \\\n",
              "0                                        1520            1   \n",
              "5                                        1520            1   \n",
              "6                                        1517            1   \n",
              "7                                        1103            1   \n",
              "8                                        5965            1   \n",
              "...                                       ...          ...   \n",
              "664605                                   1491            1   \n",
              "664608                                   1491            1   \n",
              "664609                                   1520            1   \n",
              "664610                                   1520            1   \n",
              "664611                                   4281            1   \n",
              "\n",
              "        TOTAL_WORKER_POSITIONS  \n",
              "0                          1.0  \n",
              "5                          1.0  \n",
              "6                          1.0  \n",
              "7                          1.0  \n",
              "8                          1.0  \n",
              "...                        ...  \n",
              "664605                     1.0  \n",
              "664608                     1.0  \n",
              "664609                     6.0  \n",
              "664610                     6.0  \n",
              "664611                     1.0  \n",
              "\n",
              "[365757 rows x 19 columns]"
            ]
          },
          "execution_count": 208,
          "metadata": {},
          "output_type": "execute_result"
        }
      ],
      "source": [
        "data_H1B"
      ]
    },
    {
      "cell_type": "code",
      "execution_count": 209,
      "id": "f3940c1c",
      "metadata": {},
      "outputs": [],
      "source": [
        "data_H1B = data_H1B.drop(['EMPLOYER_COUNTRY','EMPLOYER_NAME', 'JOB_TITLE','SOC_TITLE','SOC_CODE','NAICS_CODE','AGENT_ATTORNEY_LAW_FIRM_BUSINESS_NAME','TOTAL_WORKER_POSITIONS'], axis=1)"
      ]
    },
    {
      "cell_type": "code",
      "execution_count": 210,
      "id": "615e0e0b",
      "metadata": {
        "id": "615e0e0b",
        "outputId": "b2c28317-d691-425b-e3e0-215939c226ef"
      },
      "outputs": [
        {
          "data": {
            "text/html": [
              "<div>\n",
              "<style scoped>\n",
              "    .dataframe tbody tr th:only-of-type {\n",
              "        vertical-align: middle;\n",
              "    }\n",
              "\n",
              "    .dataframe tbody tr th {\n",
              "        vertical-align: top;\n",
              "    }\n",
              "\n",
              "    .dataframe thead th {\n",
              "        text-align: right;\n",
              "    }\n",
              "</style>\n",
              "<table border=\"1\" class=\"dataframe\">\n",
              "  <thead>\n",
              "    <tr style=\"text-align: right;\">\n",
              "      <th></th>\n",
              "      <th>AGENT_REPRESENTING_EMPLOYER</th>\n",
              "      <th>CONTINUED_EMPLOYMENT</th>\n",
              "      <th>CHANGE_PREVIOUS_EMPLOYMENT</th>\n",
              "      <th>NEW_CONCURRENT_EMPLOYMENT</th>\n",
              "      <th>CHANGE_EMPLOYER</th>\n",
              "      <th>AMENDED_PETITION</th>\n",
              "      <th>H-1B_DEPENDENT</th>\n",
              "      <th>WILLFUL_VIOLATOR</th>\n",
              "      <th>SUPPORT_H1B</th>\n",
              "    </tr>\n",
              "  </thead>\n",
              "  <tbody>\n",
              "    <tr>\n",
              "      <th>0</th>\n",
              "      <td>0</td>\n",
              "      <td>1</td>\n",
              "      <td>0</td>\n",
              "      <td>0.0</td>\n",
              "      <td>0</td>\n",
              "      <td>0</td>\n",
              "      <td>0</td>\n",
              "      <td>0</td>\n",
              "      <td>1</td>\n",
              "    </tr>\n",
              "    <tr>\n",
              "      <th>5</th>\n",
              "      <td>0</td>\n",
              "      <td>1</td>\n",
              "      <td>0</td>\n",
              "      <td>0.0</td>\n",
              "      <td>0</td>\n",
              "      <td>0</td>\n",
              "      <td>0</td>\n",
              "      <td>0</td>\n",
              "      <td>1</td>\n",
              "    </tr>\n",
              "    <tr>\n",
              "      <th>6</th>\n",
              "      <td>1</td>\n",
              "      <td>0</td>\n",
              "      <td>1</td>\n",
              "      <td>0.0</td>\n",
              "      <td>0</td>\n",
              "      <td>0</td>\n",
              "      <td>0</td>\n",
              "      <td>0</td>\n",
              "      <td>1</td>\n",
              "    </tr>\n",
              "    <tr>\n",
              "      <th>7</th>\n",
              "      <td>1</td>\n",
              "      <td>1</td>\n",
              "      <td>0</td>\n",
              "      <td>0.0</td>\n",
              "      <td>0</td>\n",
              "      <td>0</td>\n",
              "      <td>0</td>\n",
              "      <td>0</td>\n",
              "      <td>1</td>\n",
              "    </tr>\n",
              "    <tr>\n",
              "      <th>8</th>\n",
              "      <td>1</td>\n",
              "      <td>1</td>\n",
              "      <td>0</td>\n",
              "      <td>0.0</td>\n",
              "      <td>0</td>\n",
              "      <td>0</td>\n",
              "      <td>0</td>\n",
              "      <td>0</td>\n",
              "      <td>1</td>\n",
              "    </tr>\n",
              "    <tr>\n",
              "      <th>...</th>\n",
              "      <td>...</td>\n",
              "      <td>...</td>\n",
              "      <td>...</td>\n",
              "      <td>...</td>\n",
              "      <td>...</td>\n",
              "      <td>...</td>\n",
              "      <td>...</td>\n",
              "      <td>...</td>\n",
              "      <td>...</td>\n",
              "    </tr>\n",
              "    <tr>\n",
              "      <th>664605</th>\n",
              "      <td>1</td>\n",
              "      <td>0</td>\n",
              "      <td>0</td>\n",
              "      <td>0.0</td>\n",
              "      <td>0</td>\n",
              "      <td>1</td>\n",
              "      <td>0</td>\n",
              "      <td>0</td>\n",
              "      <td>1</td>\n",
              "    </tr>\n",
              "    <tr>\n",
              "      <th>664608</th>\n",
              "      <td>1</td>\n",
              "      <td>1</td>\n",
              "      <td>0</td>\n",
              "      <td>0.0</td>\n",
              "      <td>0</td>\n",
              "      <td>0</td>\n",
              "      <td>0</td>\n",
              "      <td>0</td>\n",
              "      <td>1</td>\n",
              "    </tr>\n",
              "    <tr>\n",
              "      <th>664609</th>\n",
              "      <td>0</td>\n",
              "      <td>0</td>\n",
              "      <td>0</td>\n",
              "      <td>0.0</td>\n",
              "      <td>0</td>\n",
              "      <td>0</td>\n",
              "      <td>0</td>\n",
              "      <td>0</td>\n",
              "      <td>1</td>\n",
              "    </tr>\n",
              "    <tr>\n",
              "      <th>664610</th>\n",
              "      <td>0</td>\n",
              "      <td>0</td>\n",
              "      <td>0</td>\n",
              "      <td>0.0</td>\n",
              "      <td>0</td>\n",
              "      <td>0</td>\n",
              "      <td>0</td>\n",
              "      <td>0</td>\n",
              "      <td>1</td>\n",
              "    </tr>\n",
              "    <tr>\n",
              "      <th>664611</th>\n",
              "      <td>1</td>\n",
              "      <td>0</td>\n",
              "      <td>0</td>\n",
              "      <td>0.0</td>\n",
              "      <td>1</td>\n",
              "      <td>0</td>\n",
              "      <td>0</td>\n",
              "      <td>0</td>\n",
              "      <td>1</td>\n",
              "    </tr>\n",
              "  </tbody>\n",
              "</table>\n",
              "<p>365757 rows × 9 columns</p>\n",
              "</div>"
            ],
            "text/plain": [
              "        AGENT_REPRESENTING_EMPLOYER CONTINUED_EMPLOYMENT  \\\n",
              "0                                 0                    1   \n",
              "5                                 0                    1   \n",
              "6                                 1                    0   \n",
              "7                                 1                    1   \n",
              "8                                 1                    1   \n",
              "...                             ...                  ...   \n",
              "664605                            1                    0   \n",
              "664608                            1                    1   \n",
              "664609                            0                    0   \n",
              "664610                            0                    0   \n",
              "664611                            1                    0   \n",
              "\n",
              "        CHANGE_PREVIOUS_EMPLOYMENT  NEW_CONCURRENT_EMPLOYMENT  \\\n",
              "0                                0                        0.0   \n",
              "5                                0                        0.0   \n",
              "6                                1                        0.0   \n",
              "7                                0                        0.0   \n",
              "8                                0                        0.0   \n",
              "...                            ...                        ...   \n",
              "664605                           0                        0.0   \n",
              "664608                           0                        0.0   \n",
              "664609                           0                        0.0   \n",
              "664610                           0                        0.0   \n",
              "664611                           0                        0.0   \n",
              "\n",
              "        CHANGE_EMPLOYER  AMENDED_PETITION  H-1B_DEPENDENT  WILLFUL_VIOLATOR  \\\n",
              "0                     0                 0               0                 0   \n",
              "5                     0                 0               0                 0   \n",
              "6                     0                 0               0                 0   \n",
              "7                     0                 0               0                 0   \n",
              "8                     0                 0               0                 0   \n",
              "...                 ...               ...             ...               ...   \n",
              "664605                0                 1               0                 0   \n",
              "664608                0                 0               0                 0   \n",
              "664609                0                 0               0                 0   \n",
              "664610                0                 0               0                 0   \n",
              "664611                1                 0               0                 0   \n",
              "\n",
              "        SUPPORT_H1B  \n",
              "0                 1  \n",
              "5                 1  \n",
              "6                 1  \n",
              "7                 1  \n",
              "8                 1  \n",
              "...             ...  \n",
              "664605            1  \n",
              "664608            1  \n",
              "664609            1  \n",
              "664610            1  \n",
              "664611            1  \n",
              "\n",
              "[365757 rows x 9 columns]"
            ]
          },
          "execution_count": 210,
          "metadata": {},
          "output_type": "execute_result"
        }
      ],
      "source": [
        "X = data_H1B.drop(\"CASE_STATUS\", axis = 1)\n",
        "X = X.drop(\"VISA_CLASS\", axis = 1)\n",
        "X = pd.DataFrame(X)\n",
        "X"
      ]
    },
    {
      "cell_type": "code",
      "execution_count": 212,
      "id": "110a6230",
      "metadata": {},
      "outputs": [
        {
          "data": {
            "text/plain": [
              "array([0, 1])"
            ]
          },
          "execution_count": 212,
          "metadata": {},
          "output_type": "execute_result"
        }
      ],
      "source": [
        "data_H1B.AGENT_REPRESENTING_EMPLOYER.unique()"
      ]
    },
    {
      "cell_type": "code",
      "execution_count": 213,
      "id": "f0415d6f",
      "metadata": {
        "id": "f0415d6f",
        "outputId": "b6105125-9f5a-4973-dc32-5ec566c32ae5"
      },
      "outputs": [
        {
          "data": {
            "text/plain": [
              "0         3\n",
              "5         3\n",
              "6         3\n",
              "7         3\n",
              "8         3\n",
              "         ..\n",
              "664605    0\n",
              "664608    0\n",
              "664609    2\n",
              "664610    0\n",
              "664611    0\n",
              "Name: CASE_STATUS, Length: 365757, dtype: int32"
            ]
          },
          "execution_count": 213,
          "metadata": {},
          "output_type": "execute_result"
        }
      ],
      "source": [
        "Y = data_H1B[\"CASE_STATUS\"]\n",
        "Y"
      ]
    },
    {
      "cell_type": "code",
      "execution_count": 214,
      "id": "da3733a6",
      "metadata": {
        "id": "da3733a6",
        "outputId": "95d39abe-5bd0-41cd-fae7-6ceab965cf6c"
      },
      "outputs": [
        {
          "data": {
            "text/plain": [
              "(365757, 9)"
            ]
          },
          "execution_count": 214,
          "metadata": {},
          "output_type": "execute_result"
        }
      ],
      "source": [
        "X.shape"
      ]
    },
    {
      "cell_type": "code",
      "execution_count": 215,
      "id": "a0a32edd",
      "metadata": {
        "id": "a0a32edd",
        "outputId": "7b07668c-9eac-4a60-a6ef-08c6cdf4afed"
      },
      "outputs": [
        {
          "data": {
            "text/plain": [
              "(365757,)"
            ]
          },
          "execution_count": 215,
          "metadata": {},
          "output_type": "execute_result"
        }
      ],
      "source": [
        "Y.shape"
      ]
    },
    {
      "cell_type": "code",
      "execution_count": 216,
      "id": "2f41f4c8",
      "metadata": {
        "id": "2f41f4c8"
      },
      "outputs": [],
      "source": [
        "from sklearn.model_selection import train_test_split \n",
        "X_train, X_test, Y_train, Y_test = train_test_split (X, Y, test_size=0.2, train_size=0.8, random_state = 7)"
      ]
    },
    {
      "cell_type": "code",
      "execution_count": 217,
      "id": "f05336c5",
      "metadata": {
        "id": "f05336c5",
        "outputId": "66b7ab78-4ffe-42bd-aba0-4cc0d160dd2a"
      },
      "outputs": [
        {
          "data": {
            "text/plain": [
              "(73152, 9)"
            ]
          },
          "execution_count": 217,
          "metadata": {},
          "output_type": "execute_result"
        }
      ],
      "source": [
        "X_test.shape"
      ]
    },
    {
      "cell_type": "markdown",
      "id": "a1a65be9",
      "metadata": {
        "id": "a1a65be9"
      },
      "source": [
        "X_train.shape"
      ]
    },
    {
      "cell_type": "markdown",
      "id": "2fc67e7f",
      "metadata": {
        "id": "2fc67e7f"
      },
      "source": [
        "### Model Building"
      ]
    },
    {
      "cell_type": "code",
      "execution_count": 218,
      "id": "f2b2c09e",
      "metadata": {
        "id": "f2b2c09e"
      },
      "outputs": [],
      "source": [
        "from sklearn.tree import DecisionTreeClassifier\n",
        "from sklearn.naive_bayes import BernoulliNB\n",
        "from sklearn.metrics import confusion_matrix, accuracy_score, classification_report"
      ]
    },
    {
      "cell_type": "markdown",
      "id": "d96780dd",
      "metadata": {},
      "source": [
        "## Decision Tree"
      ]
    },
    {
      "cell_type": "code",
      "execution_count": 219,
      "id": "ed9498f6",
      "metadata": {
        "id": "ed9498f6"
      },
      "outputs": [],
      "source": [
        "DTclassifier = DecisionTreeClassifier(criterion='entropy', random_state=0)  "
      ]
    },
    {
      "cell_type": "code",
      "execution_count": 220,
      "id": "72cd8625",
      "metadata": {
        "id": "72cd8625",
        "outputId": "e697897f-e829-4646-c792-4556d3d4e118"
      },
      "outputs": [
        {
          "data": {
            "text/html": [
              "<style>#sk-container-id-3 {color: black;background-color: white;}#sk-container-id-3 pre{padding: 0;}#sk-container-id-3 div.sk-toggleable {background-color: white;}#sk-container-id-3 label.sk-toggleable__label {cursor: pointer;display: block;width: 100%;margin-bottom: 0;padding: 0.3em;box-sizing: border-box;text-align: center;}#sk-container-id-3 label.sk-toggleable__label-arrow:before {content: \"▸\";float: left;margin-right: 0.25em;color: #696969;}#sk-container-id-3 label.sk-toggleable__label-arrow:hover:before {color: black;}#sk-container-id-3 div.sk-estimator:hover label.sk-toggleable__label-arrow:before {color: black;}#sk-container-id-3 div.sk-toggleable__content {max-height: 0;max-width: 0;overflow: hidden;text-align: left;background-color: #f0f8ff;}#sk-container-id-3 div.sk-toggleable__content pre {margin: 0.2em;color: black;border-radius: 0.25em;background-color: #f0f8ff;}#sk-container-id-3 input.sk-toggleable__control:checked~div.sk-toggleable__content {max-height: 200px;max-width: 100%;overflow: auto;}#sk-container-id-3 input.sk-toggleable__control:checked~label.sk-toggleable__label-arrow:before {content: \"▾\";}#sk-container-id-3 div.sk-estimator input.sk-toggleable__control:checked~label.sk-toggleable__label {background-color: #d4ebff;}#sk-container-id-3 div.sk-label input.sk-toggleable__control:checked~label.sk-toggleable__label {background-color: #d4ebff;}#sk-container-id-3 input.sk-hidden--visually {border: 0;clip: rect(1px 1px 1px 1px);clip: rect(1px, 1px, 1px, 1px);height: 1px;margin: -1px;overflow: hidden;padding: 0;position: absolute;width: 1px;}#sk-container-id-3 div.sk-estimator {font-family: monospace;background-color: #f0f8ff;border: 1px dotted black;border-radius: 0.25em;box-sizing: border-box;margin-bottom: 0.5em;}#sk-container-id-3 div.sk-estimator:hover {background-color: #d4ebff;}#sk-container-id-3 div.sk-parallel-item::after {content: \"\";width: 100%;border-bottom: 1px solid gray;flex-grow: 1;}#sk-container-id-3 div.sk-label:hover label.sk-toggleable__label {background-color: #d4ebff;}#sk-container-id-3 div.sk-serial::before {content: \"\";position: absolute;border-left: 1px solid gray;box-sizing: border-box;top: 0;bottom: 0;left: 50%;z-index: 0;}#sk-container-id-3 div.sk-serial {display: flex;flex-direction: column;align-items: center;background-color: white;padding-right: 0.2em;padding-left: 0.2em;position: relative;}#sk-container-id-3 div.sk-item {position: relative;z-index: 1;}#sk-container-id-3 div.sk-parallel {display: flex;align-items: stretch;justify-content: center;background-color: white;position: relative;}#sk-container-id-3 div.sk-item::before, #sk-container-id-3 div.sk-parallel-item::before {content: \"\";position: absolute;border-left: 1px solid gray;box-sizing: border-box;top: 0;bottom: 0;left: 50%;z-index: -1;}#sk-container-id-3 div.sk-parallel-item {display: flex;flex-direction: column;z-index: 1;position: relative;background-color: white;}#sk-container-id-3 div.sk-parallel-item:first-child::after {align-self: flex-end;width: 50%;}#sk-container-id-3 div.sk-parallel-item:last-child::after {align-self: flex-start;width: 50%;}#sk-container-id-3 div.sk-parallel-item:only-child::after {width: 0;}#sk-container-id-3 div.sk-dashed-wrapped {border: 1px dashed gray;margin: 0 0.4em 0.5em 0.4em;box-sizing: border-box;padding-bottom: 0.4em;background-color: white;}#sk-container-id-3 div.sk-label label {font-family: monospace;font-weight: bold;display: inline-block;line-height: 1.2em;}#sk-container-id-3 div.sk-label-container {text-align: center;}#sk-container-id-3 div.sk-container {/* jupyter's `normalize.less` sets `[hidden] { display: none; }` but bootstrap.min.css set `[hidden] { display: none !important; }` so we also need the `!important` here to be able to override the default hidden behavior on the sphinx rendered scikit-learn.org. See: https://github.com/scikit-learn/scikit-learn/issues/21755 */display: inline-block !important;position: relative;}#sk-container-id-3 div.sk-text-repr-fallback {display: none;}</style><div id=\"sk-container-id-3\" class=\"sk-top-container\"><div class=\"sk-text-repr-fallback\"><pre>DecisionTreeClassifier(criterion=&#x27;entropy&#x27;, random_state=0)</pre><b>In a Jupyter environment, please rerun this cell to show the HTML representation or trust the notebook. <br />On GitHub, the HTML representation is unable to render, please try loading this page with nbviewer.org.</b></div><div class=\"sk-container\" hidden><div class=\"sk-item\"><div class=\"sk-estimator sk-toggleable\"><input class=\"sk-toggleable__control sk-hidden--visually\" id=\"sk-estimator-id-3\" type=\"checkbox\" checked><label for=\"sk-estimator-id-3\" class=\"sk-toggleable__label sk-toggleable__label-arrow\">DecisionTreeClassifier</label><div class=\"sk-toggleable__content\"><pre>DecisionTreeClassifier(criterion=&#x27;entropy&#x27;, random_state=0)</pre></div></div></div></div></div>"
            ],
            "text/plain": [
              "DecisionTreeClassifier(criterion='entropy', random_state=0)"
            ]
          },
          "execution_count": 220,
          "metadata": {},
          "output_type": "execute_result"
        }
      ],
      "source": [
        "DTclassifier.fit(X_train,Y_train) "
      ]
    },
    {
      "cell_type": "code",
      "execution_count": 221,
      "id": "dcbcccf0",
      "metadata": {},
      "outputs": [],
      "source": [
        "Y_pred_DT = DTclassifier.predict(X_test)"
      ]
    },
    {
      "cell_type": "code",
      "execution_count": 222,
      "id": "2d707038",
      "metadata": {
        "id": "2d707038",
        "outputId": "fcafd24a-3cc1-4e58-8e14-f681d2aa0aa2"
      },
      "outputs": [
        {
          "name": "stdout",
          "output_type": "stream",
          "text": [
            "85.375656167979\n"
          ]
        }
      ],
      "source": [
        "print(accuracy_score(Y_test, Y_pred_DT)*100)"
      ]
    },
    {
      "cell_type": "code",
      "execution_count": 223,
      "id": "3cd8151b",
      "metadata": {
        "id": "3cd8151b",
        "outputId": "a19b2f37-73c6-4e70-82c1-b75195e77dd4"
      },
      "outputs": [
        {
          "data": {
            "image/png": "[encoded data removed]",
            "text/plain": [
              "<Figure size 576x576 with 2 Axes>"
            ]
          },
          "metadata": {},
          "output_type": "display_data"
        }
      ],
      "source": [
        "plt.figure(figsize = (8, 8))\n",
        "CMDT = confusion_matrix(Y_test, Y_pred_DT)\n",
        "sns.heatmap(CMDT,annot=True, cmap='Blues', fmt='g')\n",
        "plt.xlabel('Predicted Label')\n",
        "plt.ylabel('Actual Label')\n",
        "plt.show()"
      ]
    },
    {
      "cell_type": "code",
      "execution_count": 224,
      "id": "ff852fa9",
      "metadata": {
        "id": "ff852fa9",
        "outputId": "de7d3ec4-1d54-4b1f-f766-59f9a25a397c"
      },
      "outputs": [
        {
          "name": "stdout",
          "output_type": "stream",
          "text": [
            "True Predictions :  62454\n",
            "False Predictions :  10698\n"
          ]
        },
        {
          "data": {
            "text/plain": [
              "array([[61770,   227,    26,     1],\n",
              "       [ 6495,   661,     1,     0],\n",
              "       [  817,     8,    22,     1],\n",
              "       [ 3021,    96,     5,     1]], dtype=int64)"
            ]
          },
          "execution_count": 224,
          "metadata": {},
          "output_type": "execute_result"
        }
      ],
      "source": [
        "print(\"True Predictions : \", CMDT[0][0]+CMDT[1][1]+CMDT[2][2]+CMDT[3][3])\n",
        "print(\"False Predictions : \", CMDT[0][1]+CMDT[0][2]+CMDT[0][3]+CMDT[1][0]+CMDT[1][2]+CMDT[1][3]+CMDT[2][0]+CMDT[2][1]+CMDT[2][3]+CMDT[3][0]+CMDT[3][1]+CMDT[3][2])\n",
        "CMDT"
      ]
    },
    {
      "cell_type": "code",
      "execution_count": 225,
      "id": "6d7ca319",
      "metadata": {
        "id": "6d7ca319",
        "outputId": "debf9988-3419-4941-d0f6-7c1f0338d107"
      },
      "outputs": [
        {
          "name": "stdout",
          "output_type": "stream",
          "text": [
            "              precision    recall  f1-score   support\n",
            "\n",
            "           0       0.86      1.00      0.92     62024\n",
            "           1       0.67      0.09      0.16      7157\n",
            "           2       0.41      0.03      0.05       848\n",
            "           3       0.33      0.00      0.00      3123\n",
            "\n",
            "    accuracy                           0.85     73152\n",
            "   macro avg       0.57      0.28      0.28     73152\n",
            "weighted avg       0.81      0.85      0.80     73152\n",
            "\n"
          ]
        }
      ],
      "source": [
        "print(classification_report(Y_test, Y_pred_DT))"
      ]
    },
    {
      "cell_type": "markdown",
      "id": "d6552292",
      "metadata": {},
      "source": [
        "## Naive Bayes"
      ]
    },
    {
      "cell_type": "code",
      "execution_count": 226,
      "id": "4c6eda4b",
      "metadata": {},
      "outputs": [
        {
          "data": {
            "text/html": [
              "<style>#sk-container-id-4 {color: black;background-color: white;}#sk-container-id-4 pre{padding: 0;}#sk-container-id-4 div.sk-toggleable {background-color: white;}#sk-container-id-4 label.sk-toggleable__label {cursor: pointer;display: block;width: 100%;margin-bottom: 0;padding: 0.3em;box-sizing: border-box;text-align: center;}#sk-container-id-4 label.sk-toggleable__label-arrow:before {content: \"▸\";float: left;margin-right: 0.25em;color: #696969;}#sk-container-id-4 label.sk-toggleable__label-arrow:hover:before {color: black;}#sk-container-id-4 div.sk-estimator:hover label.sk-toggleable__label-arrow:before {color: black;}#sk-container-id-4 div.sk-toggleable__content {max-height: 0;max-width: 0;overflow: hidden;text-align: left;background-color: #f0f8ff;}#sk-container-id-4 div.sk-toggleable__content pre {margin: 0.2em;color: black;border-radius: 0.25em;background-color: #f0f8ff;}#sk-container-id-4 input.sk-toggleable__control:checked~div.sk-toggleable__content {max-height: 200px;max-width: 100%;overflow: auto;}#sk-container-id-4 input.sk-toggleable__control:checked~label.sk-toggleable__label-arrow:before {content: \"▾\";}#sk-container-id-4 div.sk-estimator input.sk-toggleable__control:checked~label.sk-toggleable__label {background-color: #d4ebff;}#sk-container-id-4 div.sk-label input.sk-toggleable__control:checked~label.sk-toggleable__label {background-color: #d4ebff;}#sk-container-id-4 input.sk-hidden--visually {border: 0;clip: rect(1px 1px 1px 1px);clip: rect(1px, 1px, 1px, 1px);height: 1px;margin: -1px;overflow: hidden;padding: 0;position: absolute;width: 1px;}#sk-container-id-4 div.sk-estimator {font-family: monospace;background-color: #f0f8ff;border: 1px dotted black;border-radius: 0.25em;box-sizing: border-box;margin-bottom: 0.5em;}#sk-container-id-4 div.sk-estimator:hover {background-color: #d4ebff;}#sk-container-id-4 div.sk-parallel-item::after {content: \"\";width: 100%;border-bottom: 1px solid gray;flex-grow: 1;}#sk-container-id-4 div.sk-label:hover label.sk-toggleable__label {background-color: #d4ebff;}#sk-container-id-4 div.sk-serial::before {content: \"\";position: absolute;border-left: 1px solid gray;box-sizing: border-box;top: 0;bottom: 0;left: 50%;z-index: 0;}#sk-container-id-4 div.sk-serial {display: flex;flex-direction: column;align-items: center;background-color: white;padding-right: 0.2em;padding-left: 0.2em;position: relative;}#sk-container-id-4 div.sk-item {position: relative;z-index: 1;}#sk-container-id-4 div.sk-parallel {display: flex;align-items: stretch;justify-content: center;background-color: white;position: relative;}#sk-container-id-4 div.sk-item::before, #sk-container-id-4 div.sk-parallel-item::before {content: \"\";position: absolute;border-left: 1px solid gray;box-sizing: border-box;top: 0;bottom: 0;left: 50%;z-index: -1;}#sk-container-id-4 div.sk-parallel-item {display: flex;flex-direction: column;z-index: 1;position: relative;background-color: white;}#sk-container-id-4 div.sk-parallel-item:first-child::after {align-self: flex-end;width: 50%;}#sk-container-id-4 div.sk-parallel-item:last-child::after {align-self: flex-start;width: 50%;}#sk-container-id-4 div.sk-parallel-item:only-child::after {width: 0;}#sk-container-id-4 div.sk-dashed-wrapped {border: 1px dashed gray;margin: 0 0.4em 0.5em 0.4em;box-sizing: border-box;padding-bottom: 0.4em;background-color: white;}#sk-container-id-4 div.sk-label label {font-family: monospace;font-weight: bold;display: inline-block;line-height: 1.2em;}#sk-container-id-4 div.sk-label-container {text-align: center;}#sk-container-id-4 div.sk-container {/* jupyter's `normalize.less` sets `[hidden] { display: none; }` but bootstrap.min.css set `[hidden] { display: none !important; }` so we also need the `!important` here to be able to override the default hidden behavior on the sphinx rendered scikit-learn.org. See: https://github.com/scikit-learn/scikit-learn/issues/21755 */display: inline-block !important;position: relative;}#sk-container-id-4 div.sk-text-repr-fallback {display: none;}</style><div id=\"sk-container-id-4\" class=\"sk-top-container\"><div class=\"sk-text-repr-fallback\"><pre>BernoulliNB()</pre><b>In a Jupyter environment, please rerun this cell to show the HTML representation or trust the notebook. <br />On GitHub, the HTML representation is unable to render, please try loading this page with nbviewer.org.</b></div><div class=\"sk-container\" hidden><div class=\"sk-item\"><div class=\"sk-estimator sk-toggleable\"><input class=\"sk-toggleable__control sk-hidden--visually\" id=\"sk-estimator-id-4\" type=\"checkbox\" checked><label for=\"sk-estimator-id-4\" class=\"sk-toggleable__label sk-toggleable__label-arrow\">BernoulliNB</label><div class=\"sk-toggleable__content\"><pre>BernoulliNB()</pre></div></div></div></div></div>"
            ],
            "text/plain": [
              "BernoulliNB()"
            ]
          },
          "execution_count": 226,
          "metadata": {},
          "output_type": "execute_result"
        }
      ],
      "source": [
        "NBclassifier = BernoulliNB()\n",
        "NBclassifier.fit(X_train,Y_train)"
      ]
    },
    {
      "cell_type": "code",
      "execution_count": 227,
      "id": "d71c2681",
      "metadata": {},
      "outputs": [],
      "source": [
        "Y_pred_NB = NBclassifier.predict(X_test) "
      ]
    },
    {
      "cell_type": "code",
      "execution_count": 228,
      "id": "51d267d3",
      "metadata": {},
      "outputs": [
        {
          "name": "stdout",
          "output_type": "stream",
          "text": [
            "85.08584864391952\n"
          ]
        }
      ],
      "source": [
        "print(accuracy_score(Y_test, Y_pred_NB)*100)"
      ]
    },
    {
      "cell_type": "code",
      "execution_count": 229,
      "id": "c63953c0",
      "metadata": {},
      "outputs": [
        {
          "data": {
            "image/png": "[encoded data removed]",
            "text/plain": [
              "<Figure size 576x576 with 2 Axes>"
            ]
          },
          "metadata": {},
          "output_type": "display_data"
        }
      ],
      "source": [
        "plt.figure(figsize = (8, 8))\n",
        "CMNB = confusion_matrix(Y_test, Y_pred_NB)\n",
        "sns.heatmap(CMNB,annot=True, cmap='Blues', fmt='g')\n",
        "plt.xlabel('Predicted Label')\n",
        "plt.ylabel('Actual Label')\n",
        "plt.show()"
      ]
    },
    {
      "cell_type": "code",
      "execution_count": 230,
      "id": "d42434e6",
      "metadata": {},
      "outputs": [
        {
          "name": "stdout",
          "output_type": "stream",
          "text": [
            "True Predictions :  62242\n",
            "False Predictions :  10910\n"
          ]
        }
      ],
      "source": [
        "print(\"True Predictions : \", CMNB[0][0]+CMNB[1][1]+CMNB[2][2]+CMNB[3][3])\n",
        "print(\"False Predictions : \", CMNB[0][1]+CMNB[0][2]+CMNB[0][3]+CMNB[1][0]+CMNB[1][2]+CMNB[1][3]+CMNB[2][0]+CMNB[2][1]+CMNB[2][3]+CMNB[3][0]+CMNB[3][1]+CMNB[3][2])"
      ]
    },
    {
      "cell_type": "code",
      "execution_count": 231,
      "id": "d4c7d144",
      "metadata": {},
      "outputs": [
        {
          "name": "stdout",
          "output_type": "stream",
          "text": [
            "              precision    recall  f1-score   support\n",
            "\n",
            "           0       0.86      0.99      0.92     62024\n",
            "           1       0.52      0.12      0.19      7157\n",
            "           2       0.00      0.00      0.00       848\n",
            "           3       0.00      0.00      0.00      3123\n",
            "\n",
            "    accuracy                           0.85     73152\n",
            "   macro avg       0.35      0.28      0.28     73152\n",
            "weighted avg       0.78      0.85      0.80     73152\n",
            "\n"
          ]
        },
        {
          "name": "stderr",
          "output_type": "stream",
          "text": [
            "c:\\Users\\Mayurdhvajsinh\\AppData\\Local\\Programs\\Python\\Python310\\lib\\site-packages\\sklearn\\metrics\\_classification.py:1327: UndefinedMetricWarning: Precision and F-score are ill-defined and being set to 0.0 in labels with no predicted samples. Use `zero_division` parameter to control this behavior.\n",
            "  _warn_prf(average, modifier, msg_start, len(result))\n",
            "c:\\Users\\Mayurdhvajsinh\\AppData\\Local\\Programs\\Python\\Python310\\lib\\site-packages\\sklearn\\metrics\\_classification.py:1327: UndefinedMetricWarning: Precision and F-score are ill-defined and being set to 0.0 in labels with no predicted samples. Use `zero_division` parameter to control this behavior.\n",
            "  _warn_prf(average, modifier, msg_start, len(result))\n",
            "c:\\Users\\Mayurdhvajsinh\\AppData\\Local\\Programs\\Python\\Python310\\lib\\site-packages\\sklearn\\metrics\\_classification.py:1327: UndefinedMetricWarning: Precision and F-score are ill-defined and being set to 0.0 in labels with no predicted samples. Use `zero_division` parameter to control this behavior.\n",
            "  _warn_prf(average, modifier, msg_start, len(result))\n"
          ]
        }
      ],
      "source": [
        "print(classification_report(Y_test, Y_pred_NB))"
      ]
    },
    {
      "cell_type": "code",
      "execution_count": 234,
      "id": "b2ddf9f2",
      "metadata": {},
      "outputs": [],
      "source": [
        "import pickle\n",
        "pickle.dump(DTclassifier,open('dtmodel.pkl','wb'))\n",
        "model = pickle.load(open('dtmodel.pkl','rb'))"
      ]
    }
  ],
  "metadata": {
    "colab": {
      "collapsed_sections": [
        "8c557d07",
        "9eede394",
        "92464ea5",
        "a657c32d",
        "79fe0842",
        "e6d568a3",
        "c21b0784",
        "9c156a03",
        "3c38816f",
        "73f40009",
        "b75cceb9",
        "aed865db",
        "fb4afd8d",
        "b7a9a9ca",
        "4b49bb7d",
        "7f5a1d7e",
        "de550ac1",
        "749fade9",
        "a80f48bf",
        "c744c63a",
        "2fc67e7f"
      ],
      "name": "H1B Visa RandomForest.ipynb",
      "provenance": []
    },
    "kernelspec": {
      "display_name": "Python 3.10.5 64-bit",
      "language": "python",
      "name": "python3"
    },
    "language_info": {
      "codemirror_mode": {
        "name": "ipython",
        "version": 3
      },
      "file_extension": ".py",
      "mimetype": "text/x-python",
      "name": "python",
      "nbconvert_exporter": "python",
      "pygments_lexer": "ipython3",
      "version": "3.10.5"
    },
    "vscode": {
      "interpreter": {
        "hash": "a1972677dd7340cae6bc0f059474240af251eda67a9c593d35831fedf27d03e4"
      }
    }
  },
  "nbformat": 4,
  "nbformat_minor": 5
}
